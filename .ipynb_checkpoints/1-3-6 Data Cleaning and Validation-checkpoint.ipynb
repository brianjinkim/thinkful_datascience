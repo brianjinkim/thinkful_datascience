{
 "cells": [
  {
   "cell_type": "code",
   "execution_count": 3,
   "metadata": {},
   "outputs": [],
   "source": [
    "import pandas as pd"
   ]
  },
  {
   "cell_type": "code",
   "execution_count": 92,
   "metadata": {},
   "outputs": [],
   "source": [
    "# unfortunately, I could not get this convert_to_money function to work. There is a problem where if I apply this function to a series, the replace keeps returning that there is no argument being passed in. After HOURS of trying to solve this, talking to my mentor, talking to the community, I decided to give up.\n",
    "def convert_to_money(x):\n",
    "    x = str(x)\n",
    "    print('{first} {last}'.format(first=type(x), last=x))\n",
    "    return x.replace('[^0-9.]+', '', regex=True)"
   ]
  },
  {
   "cell_type": "code",
   "execution_count": 70,
   "metadata": {},
   "outputs": [
    {
     "data": {
      "text/html": [
       "<div>\n",
       "<style scoped>\n",
       "    .dataframe tbody tr th:only-of-type {\n",
       "        vertical-align: middle;\n",
       "    }\n",
       "\n",
       "    .dataframe tbody tr th {\n",
       "        vertical-align: top;\n",
       "    }\n",
       "\n",
       "    .dataframe thead th {\n",
       "        text-align: right;\n",
       "    }\n",
       "</style>\n",
       "<table border=\"1\" class=\"dataframe\">\n",
       "  <thead>\n",
       "    <tr style=\"text-align: right;\">\n",
       "      <th></th>\n",
       "      <th>PMID/PMCID</th>\n",
       "      <th>Publisher</th>\n",
       "      <th>Journal title</th>\n",
       "      <th>Article title</th>\n",
       "      <th>COST</th>\n",
       "    </tr>\n",
       "  </thead>\n",
       "  <tbody>\n",
       "    <tr>\n",
       "      <th>0</th>\n",
       "      <td>NaN</td>\n",
       "      <td>CUP</td>\n",
       "      <td>Psychological Medicine</td>\n",
       "      <td>Reduced parahippocampal cortical thickness in ...</td>\n",
       "      <td>£0.00</td>\n",
       "    </tr>\n",
       "    <tr>\n",
       "      <th>1</th>\n",
       "      <td>PMC3679557</td>\n",
       "      <td>ACS</td>\n",
       "      <td>Biomacromolecules</td>\n",
       "      <td>Structural characterization of a Model Gram-ne...</td>\n",
       "      <td>£2381.04</td>\n",
       "    </tr>\n",
       "    <tr>\n",
       "      <th>2</th>\n",
       "      <td>23043264  PMC3506128</td>\n",
       "      <td>ACS</td>\n",
       "      <td>J Med Chem</td>\n",
       "      <td>Fumaroylamino-4,5-epoxymorphinans and related ...</td>\n",
       "      <td>£642.56</td>\n",
       "    </tr>\n",
       "    <tr>\n",
       "      <th>3</th>\n",
       "      <td>23438330 PMC3646402</td>\n",
       "      <td>ACS</td>\n",
       "      <td>J Med Chem</td>\n",
       "      <td>Orvinols with mixed kappa/mu opioid receptor a...</td>\n",
       "      <td>£669.64</td>\n",
       "    </tr>\n",
       "    <tr>\n",
       "      <th>4</th>\n",
       "      <td>23438216 PMC3601604</td>\n",
       "      <td>ACS</td>\n",
       "      <td>J Org Chem</td>\n",
       "      <td>Regioselective opening of myo-inositol orthoes...</td>\n",
       "      <td>£685.88</td>\n",
       "    </tr>\n",
       "  </tbody>\n",
       "</table>\n",
       "</div>"
      ],
      "text/plain": [
       "              PMID/PMCID Publisher           Journal title  \\\n",
       "0                    NaN       CUP  Psychological Medicine   \n",
       "1             PMC3679557       ACS       Biomacromolecules   \n",
       "2  23043264  PMC3506128        ACS              J Med Chem   \n",
       "3    23438330 PMC3646402       ACS              J Med Chem   \n",
       "4   23438216 PMC3601604        ACS              J Org Chem   \n",
       "\n",
       "                                       Article title      COST  \n",
       "0  Reduced parahippocampal cortical thickness in ...     £0.00  \n",
       "1  Structural characterization of a Model Gram-ne...  £2381.04  \n",
       "2  Fumaroylamino-4,5-epoxymorphinans and related ...   £642.56  \n",
       "3  Orvinols with mixed kappa/mu opioid receptor a...   £669.64  \n",
       "4  Regioselective opening of myo-inositol orthoes...   £685.88  "
      ]
     },
     "execution_count": 70,
     "metadata": {},
     "output_type": "execute_result"
    }
   ],
   "source": [
    "ds = pd.read_csv('../Datasets/WELLCOME_APCspend2013_forThinkful.csv', encoding='ISO-8859-1')\n",
    "ds = ds.rename(columns={'COST (£) charged to Wellcome (inc VAT when charged)':'COST'})\n",
    "ds.head()"
   ]
  },
  {
   "cell_type": "code",
   "execution_count": 5,
   "metadata": {},
   "outputs": [
    {
     "data": {
      "text/plain": [
       "Journal title\n",
       "PLoS One                                           92\n",
       "PLoS ONE                                           62\n",
       "Journal of Biological Chemistry                    48\n",
       "Nucleic Acids Research                             21\n",
       "Proceedings of the National Academy of Sciences    19\n",
       "Name: Article title, dtype: int64"
      ]
     },
     "execution_count": 5,
     "metadata": {},
     "output_type": "execute_result"
    }
   ],
   "source": [
    "ds.groupby('Journal title').count()['Article title'].nlargest(n=5)"
   ]
  },
  {
   "cell_type": "code",
   "execution_count": 82,
   "metadata": {},
   "outputs": [],
   "source": [
    "ds['COST'] = ds['COST'].replace('[^0-9.]+', '', regex=True)\n",
    "ds['COST'] = pd.to_numeric(ds['COST'])"
   ]
  },
  {
   "cell_type": "code",
   "execution_count": 89,
   "metadata": {},
   "outputs": [
    {
     "data": {
      "text/plain": [
       "Journal title\n",
       "ACS Chemical Biology                                                                         1418.186000\n",
       "ACS Chemical Neuroscience                                                                    1186.800000\n",
       "ACS NANO                                                                                      642.890000\n",
       "ACS Nano                                                                                      693.390000\n",
       "ACTA F                                                                                        754.900000\n",
       "AGE                                                                                          2002.000000\n",
       "AIDS                                                                                         2059.306667\n",
       "AIDS Behav                                                                                   1834.770000\n",
       "AIDS Care                                                                                    2189.170000\n",
       "AIDS Journal                                                                                 2015.720000\n",
       "AIDS Research and Therapy                                                                    1240.000000\n",
       "AIDS UK                                                                                      1836.920000\n",
       "ASN Neuro                                                                                    1453.420000\n",
       "Academy of Nutrition and Dietetics                                                           2379.540000\n",
       "Acta Crystallographica Section D,  Biological Crystallography                                 771.420000\n",
       "Acta Crystallographica Section D: Biological Crystallography                                  773.740000\n",
       "Acta Crystallographica Section F: Structural Biology and Crystallization Communications       796.635000\n",
       "Acta Crystallographica, Section D                                                             757.180000\n",
       "Acta Crystallography D                                                                        774.190000\n",
       "Acta D                                                                                        750.160000\n",
       "Acta Dermato Venereologica                                                                    653.960000\n",
       "Acta Diabetologica                                                                           2336.280000\n",
       "Acta Neuropathol                                                                             1901.040000\n",
       "Acta Neuropathologica                                                                        2161.063333\n",
       "Acta Opthalmologica                                                                          2270.160000\n",
       "Acta Physiol                                                                                 1991.500000\n",
       "Addiction                                                                                    2136.225000\n",
       "Advances in Experimental Medicine and Biology                                                1928.457500\n",
       "Age                                                                                          2338.280000\n",
       "Age and Ageing                                                                               2040.000000\n",
       "                                                                                               ...      \n",
       "Translational Psychiatry                                                                     2880.000000\n",
       "Trends in Cognitive Science                                                                  2340.630000\n",
       "Trends in Genetics                                                                           2370.935000\n",
       "Trends in Microbiology                                                                       2291.330000\n",
       "Trends in Molecular Medicine                                                                 2248.330000\n",
       "Trends in Neuroscience                                                                       2402.810000\n",
       "Trends in Neurosciences                                                                    501212.980000\n",
       "Trends in Parasitology                                                                     251692.990000\n",
       "Trials                                                                                     250908.975000\n",
       "Trials                                                                                       1165.000000\n",
       "Trop Med Int Health                                                                          1834.770000\n",
       "Tropical Animal Health & Production                                                          2054.780000\n",
       "Tropical Medicine and International Health                                                   1843.163333\n",
       "Tuberculosis                                                                                 2161.255000\n",
       "Urban History                                                                                2034.000000\n",
       "Urolithiasis                                                                                 1112.400000\n",
       "Vaccine                                                                                      1623.394000\n",
       "Vascular Pharmacology                                                                        2352.530000\n",
       "Veterinary Microbiology                                                                      2451.490000\n",
       "Veterinary Parasitology                                                                    501243.585000\n",
       "Veterinary Record                                                                            2040.000000\n",
       "Veterinary Research                                                                             9.930000\n",
       "Virology                                                                                     1928.505000\n",
       "Virology Journal                                                                             1242.000000\n",
       "Virus Research                                                                               1947.090000\n",
       "Vision Research                                                                            500727.590000\n",
       "Visual Neuroscience                                                                          2034.000000\n",
       "Zoonoses and Public Health                                                                   2272.150000\n",
       "genesis: Journal of Genetics                                                                 2376.400000\n",
       "mBio                                                                                         1355.130000\n",
       "Name: COST, Length: 984, dtype: float64"
      ]
     },
     "execution_count": 89,
     "metadata": {},
     "output_type": "execute_result"
    }
   ],
   "source": [
    "ds.groupby('Journal title').mean()['COST']ds.groupby('Journal title').median()['COST']\n",
    "ds.groupby('Journal title').std()['COST']"
   ]
  },
  {
   "cell_type": "code",
   "execution_count": 90,
   "metadata": {},
   "outputs": [
    {
     "data": {
      "text/plain": [
       "Journal title\n",
       "ACS Chemical Biology                                                                         1294.590\n",
       "ACS Chemical Neuroscience                                                                    1186.800\n",
       "ACS NANO                                                                                      642.890\n",
       "ACS Nano                                                                                      693.390\n",
       "ACTA F                                                                                        754.900\n",
       "AGE                                                                                          2002.000\n",
       "AIDS                                                                                         1968.630\n",
       "AIDS Behav                                                                                   1834.770\n",
       "AIDS Care                                                                                    2189.170\n",
       "AIDS Journal                                                                                 2015.720\n",
       "AIDS Research and Therapy                                                                    1240.000\n",
       "AIDS UK                                                                                      1836.920\n",
       "ASN Neuro                                                                                    1453.420\n",
       "Academy of Nutrition and Dietetics                                                           2379.540\n",
       "Acta Crystallographica Section D,  Biological Crystallography                                 771.420\n",
       "Acta Crystallographica Section D: Biological Crystallography                                  773.740\n",
       "Acta Crystallographica Section F: Structural Biology and Crystallization Communications       796.635\n",
       "Acta Crystallographica, Section D                                                             757.180\n",
       "Acta Crystallography D                                                                        774.190\n",
       "Acta D                                                                                        750.160\n",
       "Acta Dermato Venereologica                                                                    653.960\n",
       "Acta Diabetologica                                                                           2336.280\n",
       "Acta Neuropathol                                                                             1901.040\n",
       "Acta Neuropathologica                                                                        2250.970\n",
       "Acta Opthalmologica                                                                          2270.160\n",
       "Acta Physiol                                                                                 1991.500\n",
       "Addiction                                                                                    2136.225\n",
       "Advances in Experimental Medicine and Biology                                                1928.460\n",
       "Age                                                                                          2338.280\n",
       "Age and Ageing                                                                               2040.000\n",
       "                                                                                              ...    \n",
       "Translational Psychiatry                                                                     2880.000\n",
       "Trends in Cognitive Science                                                                  2340.630\n",
       "Trends in Genetics                                                                           2370.935\n",
       "Trends in Microbiology                                                                       2291.330\n",
       "Trends in Molecular Medicine                                                                 2248.330\n",
       "Trends in Neuroscience                                                                       2402.810\n",
       "Trends in Neurosciences                                                                    501212.980\n",
       "Trends in Parasitology                                                                       2384.110\n",
       "Trials                                                                                       1253.250\n",
       "Trials                                                                                       1165.000\n",
       "Trop Med Int Health                                                                          1834.770\n",
       "Tropical Animal Health & Production                                                          2054.780\n",
       "Tropical Medicine and International Health                                                   1883.625\n",
       "Tuberculosis                                                                                 2161.255\n",
       "Urban History                                                                                2034.000\n",
       "Urolithiasis                                                                                 1112.400\n",
       "Vaccine                                                                                      1448.380\n",
       "Vascular Pharmacology                                                                        2352.530\n",
       "Veterinary Microbiology                                                                      2451.490\n",
       "Veterinary Parasitology                                                                    501243.585\n",
       "Veterinary Record                                                                            2040.000\n",
       "Veterinary Research                                                                             9.930\n",
       "Virology                                                                                     1928.505\n",
       "Virology Journal                                                                             1242.000\n",
       "Virus Research                                                                               1947.090\n",
       "Vision Research                                                                            500727.590\n",
       "Visual Neuroscience                                                                          2034.000\n",
       "Zoonoses and Public Health                                                                   2272.150\n",
       "genesis: Journal of Genetics                                                                 2376.400\n",
       "mBio                                                                                         1355.130\n",
       "Name: COST, Length: 984, dtype: float64"
      ]
     },
     "execution_count": 90,
     "metadata": {},
     "output_type": "execute_result"
    }
   ],
   "source": [
    "ds.groupby('Journal title').median()['COST']"
   ]
  },
  {
   "cell_type": "code",
   "execution_count": 91,
   "metadata": {},
   "outputs": [
    {
     "data": {
      "text/plain": [
       "Journal title\n",
       "ACS Chemical Biology                                                                          507.309560\n",
       "ACS Chemical Neuroscience                                                                            NaN\n",
       "ACS NANO                                                                                             NaN\n",
       "ACS Nano                                                                                             NaN\n",
       "ACTA F                                                                                               NaN\n",
       "AGE                                                                                                  NaN\n",
       "AIDS                                                                                          281.067979\n",
       "AIDS Behav                                                                                           NaN\n",
       "AIDS Care                                                                                      61.617285\n",
       "AIDS Journal                                                                                         NaN\n",
       "AIDS Research and Therapy                                                                            NaN\n",
       "AIDS UK                                                                                         0.000000\n",
       "ASN Neuro                                                                                            NaN\n",
       "Academy of Nutrition and Dietetics                                                                   NaN\n",
       "Acta Crystallographica Section D,  Biological Crystallography                                        NaN\n",
       "Acta Crystallographica Section D: Biological Crystallography                                         NaN\n",
       "Acta Crystallographica Section F: Structural Biology and Crystallization Communications        15.605847\n",
       "Acta Crystallographica, Section D                                                                    NaN\n",
       "Acta Crystallography D                                                                               NaN\n",
       "Acta D                                                                                               NaN\n",
       "Acta Dermato Venereologica                                                                           NaN\n",
       "Acta Diabetologica                                                                                   NaN\n",
       "Acta Neuropathol                                                                                     NaN\n",
       "Acta Neuropathologica                                                                         244.811798\n",
       "Acta Opthalmologica                                                                                  NaN\n",
       "Acta Physiol                                                                                         NaN\n",
       "Addiction                                                                                     306.481292\n",
       "Advances in Experimental Medicine and Biology                                                   0.005000\n",
       "Age                                                                                                  NaN\n",
       "Age and Ageing                                                                                       NaN\n",
       "                                                                                               ...      \n",
       "Translational Psychiatry                                                                        0.000000\n",
       "Trends in Cognitive Science                                                                          NaN\n",
       "Trends in Genetics                                                                              3.995153\n",
       "Trends in Microbiology                                                                               NaN\n",
       "Trends in Molecular Medicine                                                                         NaN\n",
       "Trends in Neuroscience                                                                               NaN\n",
       "Trends in Neurosciences                                                                    705389.954206\n",
       "Trends in Parasitology                                                                     498870.709384\n",
       "Trials                                                                                     499393.359606\n",
       "Trials                                                                                               NaN\n",
       "Trop Med Int Health                                                                                  NaN\n",
       "Tropical Animal Health & Production                                                                  NaN\n",
       "Tropical Medicine and International Health                                                    161.141743\n",
       "Tuberculosis                                                                                  228.133861\n",
       "Urban History                                                                                        NaN\n",
       "Urolithiasis                                                                                         NaN\n",
       "Vaccine                                                                                       394.821486\n",
       "Vascular Pharmacology                                                                                NaN\n",
       "Veterinary Microbiology                                                                              NaN\n",
       "Veterinary Parasitology                                                                    705346.672200\n",
       "Veterinary Record                                                                                    NaN\n",
       "Veterinary Research                                                                                  NaN\n",
       "Virology                                                                                      697.850753\n",
       "Virology Journal                                                                                     NaN\n",
       "Virus Research                                                                                       NaN\n",
       "Vision Research                                                                            706076.399327\n",
       "Visual Neuroscience                                                                                  NaN\n",
       "Zoonoses and Public Health                                                                           NaN\n",
       "genesis: Journal of Genetics                                                                         NaN\n",
       "mBio                                                                                                 NaN\n",
       "Name: COST, Length: 984, dtype: float64"
      ]
     },
     "execution_count": 91,
     "metadata": {},
     "output_type": "execute_result"
    }
   ],
   "source": [
    "ds.groupby('Journal title').std()['COST']"
   ]
  }
 ],
 "metadata": {
  "kernelspec": {
   "display_name": "Python 3",
   "language": "python",
   "name": "python3"
  },
  "language_info": {
   "codemirror_mode": {
    "name": "ipython",
    "version": 3
   },
   "file_extension": ".py",
   "mimetype": "text/x-python",
   "name": "python",
   "nbconvert_exporter": "python",
   "pygments_lexer": "ipython3",
   "version": "3.6.3"
  }
 },
 "nbformat": 4,
 "nbformat_minor": 2
}
