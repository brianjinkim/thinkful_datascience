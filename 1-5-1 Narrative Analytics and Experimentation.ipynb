{
 "cells": [
  {
   "cell_type": "markdown",
   "metadata": {},
   "source": [
    "<b>Dive in and explore the data set. Include your code and visuals from this process in your final wrap up. While doing this, look for something that provokes a question; specifically one that can be answered with an experiment. Using the data set, propose and outline an experiment plan consisting of: analysis of experimental hypothesis, rollout plan showing how to implement and rollout the experiment, and evaluation plan showing what constitutes success in this experiment.</b>"
   ]
  },
  {
   "cell_type": "markdown",
   "metadata": {},
   "source": [
    "The dataset that I am using is from Kiva loans, an organization that coordinates with borrowers and lenders to facilitate money lending. As with all money lending, there are bound to be loans that are successful (funded) and others that are not (unfunded). I want to see if there is anything within the data that I can use to run an A/B Testing on."
   ]
  },
  {
   "cell_type": "code",
   "execution_count": 1,
   "metadata": {},
   "outputs": [],
   "source": [
    "%matplotlib inline\n",
    "import pandas as pd\n",
    "import numpy as np\n",
    "import seaborn as sns\n",
    "from matplotlib import pyplot as plt\n",
    "from scipy import stats"
   ]
  },
  {
   "cell_type": "code",
   "execution_count": 2,
   "metadata": {},
   "outputs": [],
   "source": [
    "loans = pd.read_csv('../Datasets/kiva_loans.csv',\n",
    "                   usecols=[0, 1, 2, 3, 4, 5, 9, 10, 11, 12])"
   ]
  },
  {
   "cell_type": "code",
   "execution_count": 3,
   "metadata": {},
   "outputs": [
    {
     "data": {
      "text/html": [
       "<div>\n",
       "<style scoped>\n",
       "    .dataframe tbody tr th:only-of-type {\n",
       "        vertical-align: middle;\n",
       "    }\n",
       "\n",
       "    .dataframe tbody tr th {\n",
       "        vertical-align: top;\n",
       "    }\n",
       "\n",
       "    .dataframe thead th {\n",
       "        text-align: right;\n",
       "    }\n",
       "</style>\n",
       "<table border=\"1\" class=\"dataframe\">\n",
       "  <thead>\n",
       "    <tr style=\"text-align: right;\">\n",
       "      <th></th>\n",
       "      <th>id</th>\n",
       "      <th>funded_amount</th>\n",
       "      <th>loan_amount</th>\n",
       "      <th>activity</th>\n",
       "      <th>sector</th>\n",
       "      <th>use</th>\n",
       "      <th>term_in_months</th>\n",
       "      <th>lender_count</th>\n",
       "      <th>repayment_interval</th>\n",
       "      <th>date</th>\n",
       "    </tr>\n",
       "  </thead>\n",
       "  <tbody>\n",
       "    <tr>\n",
       "      <th>0</th>\n",
       "      <td>1080153</td>\n",
       "      <td>5000</td>\n",
       "      <td>5000</td>\n",
       "      <td>Food Production/Sales</td>\n",
       "      <td>Food</td>\n",
       "      <td>hire more staff to keep up with the volume of ...</td>\n",
       "      <td>30</td>\n",
       "      <td>261</td>\n",
       "      <td>monthly</td>\n",
       "      <td>1/2/2014</td>\n",
       "    </tr>\n",
       "    <tr>\n",
       "      <th>1</th>\n",
       "      <td>653415</td>\n",
       "      <td>4000</td>\n",
       "      <td>4000</td>\n",
       "      <td>Cosmetics Sales</td>\n",
       "      <td>Retail</td>\n",
       "      <td>to purchase more inventory to sell</td>\n",
       "      <td>26</td>\n",
       "      <td>93</td>\n",
       "      <td>monthly</td>\n",
       "      <td>1/2/2014</td>\n",
       "    </tr>\n",
       "    <tr>\n",
       "      <th>2</th>\n",
       "      <td>1080154</td>\n",
       "      <td>10000</td>\n",
       "      <td>10000</td>\n",
       "      <td>Food Production/Sales</td>\n",
       "      <td>Food</td>\n",
       "      <td>outfit my new kitchen so that I can expand my ...</td>\n",
       "      <td>36</td>\n",
       "      <td>280</td>\n",
       "      <td>monthly</td>\n",
       "      <td>1/2/2014</td>\n",
       "    </tr>\n",
       "    <tr>\n",
       "      <th>3</th>\n",
       "      <td>653761</td>\n",
       "      <td>5000</td>\n",
       "      <td>5000</td>\n",
       "      <td>Farming</td>\n",
       "      <td>Agriculture</td>\n",
       "      <td>to purchase a tractor</td>\n",
       "      <td>32</td>\n",
       "      <td>158</td>\n",
       "      <td>monthly</td>\n",
       "      <td>1/3/2014</td>\n",
       "    </tr>\n",
       "    <tr>\n",
       "      <th>4</th>\n",
       "      <td>653803</td>\n",
       "      <td>5450</td>\n",
       "      <td>5450</td>\n",
       "      <td>Services</td>\n",
       "      <td>Services</td>\n",
       "      <td>to market her new business.</td>\n",
       "      <td>32</td>\n",
       "      <td>164</td>\n",
       "      <td>monthly</td>\n",
       "      <td>1/3/2014</td>\n",
       "    </tr>\n",
       "  </tbody>\n",
       "</table>\n",
       "</div>"
      ],
      "text/plain": [
       "        id  funded_amount  loan_amount               activity       sector  \\\n",
       "0  1080153           5000         5000  Food Production/Sales         Food   \n",
       "1   653415           4000         4000        Cosmetics Sales       Retail   \n",
       "2  1080154          10000        10000  Food Production/Sales         Food   \n",
       "3   653761           5000         5000                Farming  Agriculture   \n",
       "4   653803           5450         5450               Services     Services   \n",
       "\n",
       "                                                 use  term_in_months  \\\n",
       "0  hire more staff to keep up with the volume of ...              30   \n",
       "1                 to purchase more inventory to sell              26   \n",
       "2  outfit my new kitchen so that I can expand my ...              36   \n",
       "3                              to purchase a tractor              32   \n",
       "4                        to market her new business.              32   \n",
       "\n",
       "   lender_count repayment_interval      date  \n",
       "0           261            monthly  1/2/2014  \n",
       "1            93            monthly  1/2/2014  \n",
       "2           280            monthly  1/2/2014  \n",
       "3           158            monthly  1/3/2014  \n",
       "4           164            monthly  1/3/2014  "
      ]
     },
     "execution_count": 3,
     "metadata": {},
     "output_type": "execute_result"
    }
   ],
   "source": [
    "loans.head()"
   ]
  },
  {
   "cell_type": "code",
   "execution_count": 4,
   "metadata": {},
   "outputs": [
    {
     "name": "stdout",
     "output_type": "stream",
     "text": [
      "Number of funded loans:  3892\n",
      "Number of unfunded loans:  2201\n"
     ]
    }
   ],
   "source": [
    "#add columns funded and count\n",
    "loans['funded'] = np.where(loans['funded_amount'] == loans['loan_amount'], 1, 0)\n",
    "loans['count'] = 1\n",
    "\n",
    "# check number of funded and unfunded loans\n",
    "funded_loans = loans[loans['funded']==1]\n",
    "unfunded_loans = loans[loans['funded']==0]\n",
    "print('Number of funded loans: ', len(funded_loans))\n",
    "print('Number of unfunded loans: ', len(unfunded_loans))"
   ]
  },
  {
   "cell_type": "code",
   "execution_count": 21,
   "metadata": {},
   "outputs": [],
   "source": [
    "#creating a new dataframe to check funding status by sector\n",
    "loans_sector = loans.groupby(['sector', 'funded']).count()['count'].reset_index()"
   ]
  },
  {
   "cell_type": "code",
   "execution_count": 9,
   "metadata": {},
   "outputs": [
    {
     "data": {
      "image/png": "[encoded data removed]",
      "text/plain": [
       "<matplotlib.figure.Figure at 0x33c3ff0>"
      ]
     },
     "metadata": {},
     "output_type": "display_data"
    }
   ],
   "source": [
    "#stacked bar chart, sorted\n",
    "g=sns.factorplot(x='sector', y='count', hue='funded', data=loans_sector, size=7, kind='bar')\n",
    "g.set_xlabels('Loan Sector')\n",
    "g.set_ylabels('Number of Loans')\n",
    "plt.title('Bar Plot Number of Loans by Sector')\n",
    "g.set_xticklabels(rotation=90)\n",
    "\n",
    "# title\n",
    "g._legend.set_title('Status')\n",
    "# replace labels\n",
    "new_labels = ['Unfunded', 'Funded']\n",
    "for t, l in zip(g._legend.texts, new_labels): t.set_text(l)\n",
    "plt.show()"
   ]
  },
  {
   "cell_type": "code",
   "execution_count": 75,
   "metadata": {},
   "outputs": [
    {
     "name": "stdout",
     "output_type": "stream",
     "text": [
      "The mean of funded loans:  sector\n",
      "Agriculture       0.831266\n",
      "Arts              0.682927\n",
      "Clothing          0.611905\n",
      "Construction      0.610526\n",
      "Education         0.662921\n",
      "Entertainment     0.469945\n",
      "Food              0.744380\n",
      "Health            0.746667\n",
      "Housing           0.543478\n",
      "Manufacturing     0.743590\n",
      "Personal Use      0.782051\n",
      "Retail            0.588108\n",
      "Services          0.568657\n",
      "Transportation    0.568182\n",
      "Wholesale         0.714286\n",
      "Name: count, dtype: float64\n"
     ]
    }
   ],
   "source": [
    "#average mean of funded v fund of food and agriculture\n",
    "funded_loans = loans_sector[loans_sector['funded']==1].groupby('sector').sum()['count']\n",
    "total_loans = loans_sector.groupby('sector').sum()['count']\n",
    "\n",
    "proportion_of_funded_loans = funded_loans/total_loans\n",
    "print('The mean of funded loans: ', proportion_of_funded_loans)"
   ]
  },
  {
   "cell_type": "markdown",
   "metadata": {},
   "source": [
    "Based on the above graphs and data, there are certain sectors that are more effective at getting loans funded. Perhaps if there are more loans from the food/agriculture sector, the number of total accepted loans will go up. While several other sectors also have a high loan funding rate (health, manufacturing, personal use, and wholesale), there are not enough data to determine if it is just due to a low number of loans in those sectors or if those sectors actually has a higher chance of being funded."
   ]
  },
  {
   "cell_type": "code",
   "execution_count": 70,
   "metadata": {},
   "outputs": [
    {
     "data": {
      "text/plain": [
       "funded\n",
       "0    27.301333\n",
       "1    29.510171\n",
       "Name: term_in_months, dtype: float64"
      ]
     },
     "execution_count": 70,
     "metadata": {},
     "output_type": "execute_result"
    }
   ],
   "source": [
    "food_and_agriculture_loans = loans.set_index('sector').loc[['Food', 'Agriculture']]\n",
    "food_and_agriculture_loans.groupby('funded').mean()['term_in_months']"
   ]
  },
  {
   "cell_type": "markdown",
   "metadata": {},
   "source": [
    "For food and agriculture, it appears that the longer termed loans are more likely to be funded. If we raise the minimum loan term, will more loans be funded?"
   ]
  },
  {
   "cell_type": "markdown",
   "metadata": {},
   "source": [
    "# RFC"
   ]
  },
  {
   "cell_type": "markdown",
   "metadata": {},
   "source": [
    "While Kiva is a non profit organization, they must still cover operating costs and other expenses to further grow their organization. Besides receiving donations, the only other option as a loan operating company to generate money, is to have the loans be successfully funded. There are many approaches to doing this: how the way the loans are advertised to the lenders, increasing the number of total available lenders, and optimizing how the loans are distributed. Increasing the profitability of Kiva is a good thing. If there are more successful loans being issued out, then the percentage that Kiva charges per successful loan can decrease, leading to more money available for the lenders."
   ]
  },
  {
   "cell_type": "markdown",
   "metadata": {},
   "source": [
    "## Based on the data of loans provided by Kiva, Kiva should raise the minimum number of payment term months by 2 months to improve the funding rate of loans"
   ]
  },
  {
   "cell_type": "markdown",
   "metadata": {},
   "source": [
    "To confirm that the sample that I am using is normal, I am creating an A/A testing"
   ]
  },
  {
   "cell_type": "code",
   "execution_count": 73,
   "metadata": {},
   "outputs": [
    {
     "name": "stdout",
     "output_type": "stream",
     "text": [
      "sample1 mean:  funded\n",
      "0    27.370787\n",
      "1    29.719551\n",
      "Name: term_in_months, dtype: float64\n",
      "sample2 mean:  funded\n",
      "0    27.238579\n",
      "1    29.294215\n",
      "Name: term_in_months, dtype: float64\n"
     ]
    }
   ],
   "source": [
    "sample_size = int(len(food_and_agriculture_loans) / 2)\n",
    "sample1 = food_and_agriculture_loans.sample(n=sample_size)\n",
    "\n",
    "#find common id in sample1 and population of food and agriculture and select not common ids for sample2 \n",
    "common = food_and_agriculture_loans.merge(sample1,on='id')\n",
    "sample2 = food_and_agriculture_loans[(~food_and_agriculture_loans.id.isin(common.id))]\n",
    "\n",
    "print('sample1 mean: ', sample1.groupby('funded').mean()['term_in_months'])\n",
    "print('sample2 mean: ', sample2.groupby('funded').mean()['term_in_months'])"
   ]
  },
  {
   "cell_type": "markdown",
   "metadata": {},
   "source": [
    "The A/A testing appears to show that sample of food and agriculture sectors are identical to one another, and that we can proceed with the A/B testing."
   ]
  },
  {
   "cell_type": "markdown",
   "metadata": {},
   "source": [
    "Kiwa should increase the minimum payment terms by 2 months for a duration of three months to increase the rate of funded loans. After the three months are over, compare the number of funded loans in agriculture and food sectors. If the number of funded loans are higher by 5%, consider the experiment a success and keep the payment terms indefinitely. If the average of funded loans are similar to pre experiment average, continue the experiment for another 3 months. If the average of funded loans is lower than the pre experiment, revert the payment terms back down by 2."
   ]
  }
 ],
 "metadata": {
  "kernelspec": {
   "display_name": "Python 3",
   "language": "python",
   "name": "python3"
  },
  "language_info": {
   "codemirror_mode": {
    "name": "ipython",
    "version": 3
   },
   "file_extension": ".py",
   "mimetype": "text/x-python",
   "name": "python",
   "nbconvert_exporter": "python",
   "pygments_lexer": "ipython3",
   "version": "3.6.3"
  }
 },
 "nbformat": 4,
 "nbformat_minor": 2
}
