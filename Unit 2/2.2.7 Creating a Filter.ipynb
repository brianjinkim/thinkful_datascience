{
 "cells": [
  {
   "cell_type": "markdown",
   "metadata": {},
   "source": [
    "## Build your own Naive Bayes classifier. Perform a sentiment analysis, classifying whether feedback left on a website is either positive or negative. "
   ]
  },
  {
   "cell_type": "code",
   "execution_count": 1,
   "metadata": {},
   "outputs": [],
   "source": [
    "%matplotlib inline\n",
    "import pandas as pd\n",
    "import numpy as np\n",
    "import matplotlib.pyplot as plt\n",
    "import scipy\n",
    "import sklearn\n",
    "import seaborn as sns"
   ]
  },
  {
   "cell_type": "code",
   "execution_count": 2,
   "metadata": {},
   "outputs": [
    {
     "data": {
      "text/html": [
       "<div>\n",
       "<style scoped>\n",
       "    .dataframe tbody tr th:only-of-type {\n",
       "        vertical-align: middle;\n",
       "    }\n",
       "\n",
       "    .dataframe tbody tr th {\n",
       "        vertical-align: top;\n",
       "    }\n",
       "\n",
       "    .dataframe thead th {\n",
       "        text-align: right;\n",
       "    }\n",
       "</style>\n",
       "<table border=\"1\" class=\"dataframe\">\n",
       "  <thead>\n",
       "    <tr style=\"text-align: right;\">\n",
       "      <th></th>\n",
       "      <th>message</th>\n",
       "      <th>feedback</th>\n",
       "    </tr>\n",
       "  </thead>\n",
       "  <tbody>\n",
       "    <tr>\n",
       "      <th>0</th>\n",
       "      <td>Wow... Loved this place.</td>\n",
       "      <td>1</td>\n",
       "    </tr>\n",
       "    <tr>\n",
       "      <th>1</th>\n",
       "      <td>Crust is not good.</td>\n",
       "      <td>0</td>\n",
       "    </tr>\n",
       "    <tr>\n",
       "      <th>2</th>\n",
       "      <td>Not tasty and the texture was just nasty.</td>\n",
       "      <td>0</td>\n",
       "    </tr>\n",
       "    <tr>\n",
       "      <th>3</th>\n",
       "      <td>Stopped by during the late May bank holiday of...</td>\n",
       "      <td>1</td>\n",
       "    </tr>\n",
       "    <tr>\n",
       "      <th>4</th>\n",
       "      <td>The selection on the menu was great and so wer...</td>\n",
       "      <td>1</td>\n",
       "    </tr>\n",
       "    <tr>\n",
       "      <th>5</th>\n",
       "      <td>Now I am getting angry and I want my damn pho.</td>\n",
       "      <td>0</td>\n",
       "    </tr>\n",
       "    <tr>\n",
       "      <th>6</th>\n",
       "      <td>Honeslty it didn't taste THAT fresh.)</td>\n",
       "      <td>0</td>\n",
       "    </tr>\n",
       "    <tr>\n",
       "      <th>7</th>\n",
       "      <td>The potatoes were like rubber and you could te...</td>\n",
       "      <td>0</td>\n",
       "    </tr>\n",
       "    <tr>\n",
       "      <th>8</th>\n",
       "      <td>The fries were great too.</td>\n",
       "      <td>1</td>\n",
       "    </tr>\n",
       "    <tr>\n",
       "      <th>9</th>\n",
       "      <td>A great touch.</td>\n",
       "      <td>1</td>\n",
       "    </tr>\n",
       "  </tbody>\n",
       "</table>\n",
       "</div>"
      ],
      "text/plain": [
       "                                             message  feedback\n",
       "0                           Wow... Loved this place.         1\n",
       "1                                 Crust is not good.         0\n",
       "2          Not tasty and the texture was just nasty.         0\n",
       "3  Stopped by during the late May bank holiday of...         1\n",
       "4  The selection on the menu was great and so wer...         1\n",
       "5     Now I am getting angry and I want my damn pho.         0\n",
       "6              Honeslty it didn't taste THAT fresh.)         0\n",
       "7  The potatoes were like rubber and you could te...         0\n",
       "8                          The fries were great too.         1\n",
       "9                                     A great touch.         1"
      ]
     },
     "execution_count": 2,
     "metadata": {},
     "output_type": "execute_result"
    }
   ],
   "source": [
    "datapath = '../Datasets/yelp_labelled.txt'\n",
    "feedback_raw = pd.read_csv(datapath, delimiter='\\t', header=None)\n",
    "feedback_raw.columns = ['message', 'feedback']\n",
    "\n",
    "feature = pd.DataFrame()\n",
    "sns.set_style('white')\n",
    "feedback_raw.head(10)"
   ]
  },
  {
   "cell_type": "code",
   "execution_count": 3,
   "metadata": {},
   "outputs": [
    {
     "name": "stdout",
     "output_type": "stream",
     "text": [
      "Negative Feedback\n",
      "count: 500\n",
      "min: 11\n",
      "max: 149\n",
      "mean: 60.75\n",
      "median: 52.5\n",
      "10th percentile: 20.0\n",
      "90th percentile: 114.0\n",
      "standard deviation: 34.224935243\n",
      "----------------------------------------\n",
      "Positive Feedback\n",
      "count: 500\n",
      "min: 11\n",
      "max: 148\n",
      "mean: 55.882\n",
      "median: 49.5\n",
      "10th percentile: 21.0\n",
      "90th percentile: 100.10000000000002\n",
      "standard deviation: 30.2283904165\n",
      "----------------------------------------\n"
     ]
    },
    {
     "data": {
      "text/plain": [
       "Ttest_indResult(statistic=2.3838116739287263, pvalue=0.017320493438559056)"
      ]
     },
     "execution_count": 3,
     "metadata": {},
     "output_type": "execute_result"
    }
   ],
   "source": [
    "# does length of message determine feedback?\n",
    "feature['message_length'] = feedback_raw['message'].str.len()\n",
    "feature['feedback'] = feedback_raw['feedback']\n",
    "\n",
    "i = 0\n",
    "while i < 2:\n",
    "    print('Negative Feedback') if i == 0 else print('Positive Feedback')\n",
    "    print('count:', feature[feature['feedback']==i]['message_length'].count())\n",
    "    print('min:', feature[feature['feedback']==i]['message_length'].min())\n",
    "    print('max:', feature[feature['feedback']==i]['message_length'].max())\n",
    "    print('mean:', feature[feature['feedback']==i]['message_length'].mean())\n",
    "    print('median:', feature[feature['feedback']==i]['message_length'].median())\n",
    "    print('10th percentile:', feature[feature['feedback']==i]['message_length'].quantile(.1))\n",
    "    print('90th percentile:', feature[feature['feedback']==i]['message_length'].quantile(.9))    \n",
    "    print('standard deviation:', feature[feature['feedback']==i]['message_length'].std())\n",
    "    print(40 * '-')\n",
    "    i = i + 1\n",
    "\n",
    "scipy.stats.ttest_ind(feature[feature['feedback']==0].message_length,\n",
    "                 feature[feature['feedback']==1].message_length)"
   ]
  },
  {
   "cell_type": "code",
   "execution_count": 4,
   "metadata": {},
   "outputs": [],
   "source": [
    "# add space to msg before and after stmt to get first and last words \n",
    "feature['msg'] = ' ' + feedback_raw.message.str.replace('[^A-Za-z0-9\\']+', ' ') + ' '"
   ]
  },
  {
   "cell_type": "code",
   "execution_count": 5,
   "metadata": {},
   "outputs": [
    {
     "name": "stdout",
     "output_type": "stream",
     "text": [
      "['i', 'was', 'to', 'a', 'not', 'it', 'of', 'for', 'food', 'we', 'be', 'that', 'but', 'my', 'at', 'back', 'like', 'there', 'go', 'no', 'never', 'will', \"don't\", 'would', 'if', 'ever', 'up', 'again', 'from', 'only', 'your', 'one', 'much', 'got', 'did', 'out', \"won't\", 'disappointed', 'worst', 'what', 'been', 'think', 'being', 'going', 'me', \"i've\", 'came', 'us', 'more', 'eat', \"i'm\", 'which', 'better', 'or', 'get', 'wait', 'too', 'when', 'way', 'about', 'flavor', 'do', 'after', 'because', 'how', 'other', \"didn't\", 'than', 'another', 'over', 'them', 'ordered', 'times', 'burger', 'cold', 'quality', 'then', 'salad', 'coming', 'know', 'before', 'can', 'getting', 'sushi', 'down', '2', 'bit', 'impressed', 'give', 'any', 'feel', 'enough', 'off', 'meat', 'eating', 'people', 'she', 'soon', 'few', 'tasted', 'felt', 'around', 'said', 'meal', 'lunch', 'next', 'nothing', 'many', 'take', '1', 'sure', 'done', 'hour', 'hot', \"can't\", 'who', 'two', 'dishes', 'table', 'waiter', 'fries', 'warm', 'kept', 'customer', 'bring', \"i'll\", 'enjoy', 'extremely', 'chips', 'servers', '3', 'lot', 'old', 'found', 'see', 'am', 'return', 'talk', 'fried', 'served', 'shrimp', 'needs', 'piece', 'least', 'possible', 'these', 'soup', 'things', '4', 'rice', 'establishment', 'expect', 'outside', '40', 'home', 'fish', '20', 'pay', 'leave', 'heart', 'gave', 'running', 'real', 'husband', 'vegetables', 'damn', 'someone', 'point', 'pulled', 'arrived', 'received', 'review', 'list', \"couldn't\", 'chewy', 'stay', 'door', 'lobster', 'big', 'course', 'immediately', 'yet', 'expected', 'texture', \"isn't\", 'lacking', 'wife', 'deserves', 'bathroom', 'half', 'brought', 'tip', 'treated', 'dog', 'believe', 'find', 'bill', 'honest', 'empty', 'meals', 'green', 'room', 'walked', 'reviews', 'beans', \"friend's\", 'checked', 'gone', 'ate']\n"
     ]
    }
   ],
   "source": [
    "#find words that show up more frequently in negative feedbacks to build negative dictionary\n",
    "dictionary = pd.DataFrame()\n",
    "dictionary['negative'] = pd.Series(' '.join(feature[feature['feedback']==0].msg).lower().split()).value_counts()\n",
    "dictionary['positive'] = pd.Series(' '.join(feature[feature['feedback']==1].msg).lower().split()).value_counts()\n",
    "filtered_dictionary = np.where(dictionary['negative'] > dictionary['positive'], dictionary['negative'].index, None)\n",
    "print(list(filter(lambda x: x != None, filtered_dictionary)))"
   ]
  },
  {
   "cell_type": "code",
   "execution_count": 6,
   "metadata": {},
   "outputs": [],
   "source": [
    "#remove neutral/positive words from negative dictionary\n",
    "neutral = ['was', 'for', 'that', 'there', 'your', 'from', 'what', 'like', \"i've\", \"i'm\", 'can', 'wife', 'dog', 'reviews', 'beans', 'green', \"friend's\", 'lobster', 'rice', 'fried']"
   ]
  },
  {
   "cell_type": "code",
   "execution_count": 7,
   "metadata": {},
   "outputs": [
    {
     "name": "stdout",
     "output_type": "stream",
     "text": [
      "['not', 'food', 'but', 'back', 'never', 'will', \"don't\", 'would', 'ever', 'again', 'only', 'one', 'much', 'got', 'did', 'out', \"won't\", 'disappointed', 'worst', 'been', 'think', 'being', 'going', 'came', 'more', 'eat', 'which', 'better', 'get', 'wait', 'too', 'when', 'way', 'about', 'flavor', 'after', 'because', 'how', 'other', \"didn't\", 'than', 'another', 'over', 'them', 'ordered', 'times', 'burger', 'cold', 'quality', 'then', 'salad', 'coming', 'know', 'before', 'getting', 'sushi', 'down', 'bit', 'impressed', 'give', 'any', 'feel', 'enough', 'off', 'meat', 'eating', 'people', 'she', 'soon', 'few', 'tasted', 'felt', 'around', 'said', 'meal', 'lunch', 'next', 'nothing', 'many', 'take', 'sure', 'done', 'hour', 'hot', \"can't\", 'who', 'two', 'dishes', 'table', 'waiter', 'fries', 'warm', 'kept', 'customer', 'bring', \"i'll\", 'enjoy', 'extremely', 'chips', 'servers', 'lot', 'old', 'found', 'see', 'return', 'talk', 'served', 'shrimp', 'needs', 'piece', 'least', 'possible', 'these', 'soup', 'things', 'establishment', 'expect', 'outside', 'home', 'fish', 'pay', 'leave', 'heart', 'gave', 'running', 'real', 'husband', 'vegetables', 'damn', 'someone', 'point', 'pulled', 'arrived', 'received', 'review', 'list', \"couldn't\", 'chewy', 'stay', 'door', 'big', 'course', 'immediately', 'yet', 'expected', 'texture', \"isn't\", 'lacking', 'deserves', 'bathroom', 'half', 'brought', 'tip', 'treated', 'believe', 'find', 'bill', 'honest', 'empty', 'meals', 'room', 'walked', 'checked', 'gone', 'ate']\n"
     ]
    }
   ],
   "source": [
    "#create negative dictionary excluding 2 letter words and neutral list\n",
    "negative_dictionary = []\n",
    "for word in filtered_dictionary:\n",
    "    if (word != None):\n",
    "        if ((len(word) > 2) & (word not in neutral)):\n",
    "            negative_dictionary.append(word)\n",
    "print(negative_dictionary)"
   ]
  },
  {
   "cell_type": "code",
   "execution_count": 8,
   "metadata": {},
   "outputs": [
    {
     "data": {
      "text/html": [
       "<div>\n",
       "<style scoped>\n",
       "    .dataframe tbody tr th:only-of-type {\n",
       "        vertical-align: middle;\n",
       "    }\n",
       "\n",
       "    .dataframe tbody tr th {\n",
       "        vertical-align: top;\n",
       "    }\n",
       "\n",
       "    .dataframe thead th {\n",
       "        text-align: right;\n",
       "    }\n",
       "</style>\n",
       "<table border=\"1\" class=\"dataframe\">\n",
       "  <thead>\n",
       "    <tr style=\"text-align: right;\">\n",
       "      <th></th>\n",
       "      <th>message_length</th>\n",
       "      <th>feedback</th>\n",
       "      <th>msg</th>\n",
       "      <th>not</th>\n",
       "      <th>food</th>\n",
       "      <th>but</th>\n",
       "      <th>back</th>\n",
       "      <th>never</th>\n",
       "      <th>will</th>\n",
       "      <th>don't</th>\n",
       "      <th>...</th>\n",
       "      <th>find</th>\n",
       "      <th>bill</th>\n",
       "      <th>honest</th>\n",
       "      <th>empty</th>\n",
       "      <th>meals</th>\n",
       "      <th>room</th>\n",
       "      <th>walked</th>\n",
       "      <th>checked</th>\n",
       "      <th>gone</th>\n",
       "      <th>ate</th>\n",
       "    </tr>\n",
       "  </thead>\n",
       "  <tbody>\n",
       "    <tr>\n",
       "      <th>0</th>\n",
       "      <td>24</td>\n",
       "      <td>1</td>\n",
       "      <td>Wow Loved this place</td>\n",
       "      <td>False</td>\n",
       "      <td>False</td>\n",
       "      <td>False</td>\n",
       "      <td>False</td>\n",
       "      <td>False</td>\n",
       "      <td>False</td>\n",
       "      <td>False</td>\n",
       "      <td>...</td>\n",
       "      <td>False</td>\n",
       "      <td>False</td>\n",
       "      <td>False</td>\n",
       "      <td>False</td>\n",
       "      <td>False</td>\n",
       "      <td>False</td>\n",
       "      <td>False</td>\n",
       "      <td>False</td>\n",
       "      <td>False</td>\n",
       "      <td>False</td>\n",
       "    </tr>\n",
       "    <tr>\n",
       "      <th>1</th>\n",
       "      <td>18</td>\n",
       "      <td>0</td>\n",
       "      <td>Crust is not good</td>\n",
       "      <td>True</td>\n",
       "      <td>False</td>\n",
       "      <td>False</td>\n",
       "      <td>False</td>\n",
       "      <td>False</td>\n",
       "      <td>False</td>\n",
       "      <td>False</td>\n",
       "      <td>...</td>\n",
       "      <td>False</td>\n",
       "      <td>False</td>\n",
       "      <td>False</td>\n",
       "      <td>False</td>\n",
       "      <td>False</td>\n",
       "      <td>False</td>\n",
       "      <td>False</td>\n",
       "      <td>False</td>\n",
       "      <td>False</td>\n",
       "      <td>False</td>\n",
       "    </tr>\n",
       "    <tr>\n",
       "      <th>2</th>\n",
       "      <td>41</td>\n",
       "      <td>0</td>\n",
       "      <td>Not tasty and the texture was just nasty</td>\n",
       "      <td>True</td>\n",
       "      <td>False</td>\n",
       "      <td>False</td>\n",
       "      <td>False</td>\n",
       "      <td>False</td>\n",
       "      <td>False</td>\n",
       "      <td>False</td>\n",
       "      <td>...</td>\n",
       "      <td>False</td>\n",
       "      <td>False</td>\n",
       "      <td>False</td>\n",
       "      <td>False</td>\n",
       "      <td>False</td>\n",
       "      <td>False</td>\n",
       "      <td>False</td>\n",
       "      <td>False</td>\n",
       "      <td>False</td>\n",
       "      <td>False</td>\n",
       "    </tr>\n",
       "    <tr>\n",
       "      <th>3</th>\n",
       "      <td>87</td>\n",
       "      <td>1</td>\n",
       "      <td>Stopped by during the late May bank holiday o...</td>\n",
       "      <td>False</td>\n",
       "      <td>False</td>\n",
       "      <td>False</td>\n",
       "      <td>False</td>\n",
       "      <td>False</td>\n",
       "      <td>False</td>\n",
       "      <td>False</td>\n",
       "      <td>...</td>\n",
       "      <td>False</td>\n",
       "      <td>False</td>\n",
       "      <td>False</td>\n",
       "      <td>False</td>\n",
       "      <td>False</td>\n",
       "      <td>False</td>\n",
       "      <td>False</td>\n",
       "      <td>False</td>\n",
       "      <td>False</td>\n",
       "      <td>False</td>\n",
       "    </tr>\n",
       "    <tr>\n",
       "      <th>4</th>\n",
       "      <td>59</td>\n",
       "      <td>1</td>\n",
       "      <td>The selection on the menu was great and so we...</td>\n",
       "      <td>False</td>\n",
       "      <td>False</td>\n",
       "      <td>False</td>\n",
       "      <td>False</td>\n",
       "      <td>False</td>\n",
       "      <td>False</td>\n",
       "      <td>False</td>\n",
       "      <td>...</td>\n",
       "      <td>False</td>\n",
       "      <td>False</td>\n",
       "      <td>False</td>\n",
       "      <td>False</td>\n",
       "      <td>False</td>\n",
       "      <td>False</td>\n",
       "      <td>False</td>\n",
       "      <td>False</td>\n",
       "      <td>False</td>\n",
       "      <td>False</td>\n",
       "    </tr>\n",
       "  </tbody>\n",
       "</table>\n",
       "<p>5 rows × 168 columns</p>\n",
       "</div>"
      ],
      "text/plain": [
       "   message_length  feedback  \\\n",
       "0              24         1   \n",
       "1              18         0   \n",
       "2              41         0   \n",
       "3              87         1   \n",
       "4              59         1   \n",
       "\n",
       "                                                 msg    not   food    but  \\\n",
       "0                             Wow Loved this place    False  False  False   \n",
       "1                                Crust is not good     True  False  False   \n",
       "2         Not tasty and the texture was just nasty     True  False  False   \n",
       "3   Stopped by during the late May bank holiday o...  False  False  False   \n",
       "4   The selection on the menu was great and so we...  False  False  False   \n",
       "\n",
       "    back  never   will  don't  ...     find   bill  honest  empty  meals  \\\n",
       "0  False  False  False  False  ...    False  False   False  False  False   \n",
       "1  False  False  False  False  ...    False  False   False  False  False   \n",
       "2  False  False  False  False  ...    False  False   False  False  False   \n",
       "3  False  False  False  False  ...    False  False   False  False  False   \n",
       "4  False  False  False  False  ...    False  False   False  False  False   \n",
       "\n",
       "    room  walked  checked   gone    ate  \n",
       "0  False   False    False  False  False  \n",
       "1  False   False    False  False  False  \n",
       "2  False   False    False  False  False  \n",
       "3  False   False    False  False  False  \n",
       "4  False   False    False  False  False  \n",
       "\n",
       "[5 rows x 168 columns]"
      ]
     },
     "execution_count": 8,
     "metadata": {},
     "output_type": "execute_result"
    }
   ],
   "source": [
    "# keyword indicators of negative feedback\n",
    "\n",
    "for key in negative_dictionary:\n",
    "    # adding spaces around key to get word and not pattern matching.\n",
    "    feature[str(key)] = feature.msg.str.contains(\n",
    "        ' ' + str(key) + ' ', case=False\n",
    "    )\n",
    "feature.head(5)"
   ]
  },
  {
   "cell_type": "code",
   "execution_count": 9,
   "metadata": {},
   "outputs": [
    {
     "data": {
      "image/png": "[encoded data removed]",
      "text/plain": [
       "<matplotlib.figure.Figure at 0x1118bef0>"
      ]
     },
     "metadata": {},
     "output_type": "display_data"
    }
   ],
   "source": [
    "sns.set_style('white')\n",
    "sns.heatmap(feature.corr())\n",
    "plt.show()"
   ]
  },
  {
   "cell_type": "code",
   "execution_count": 10,
   "metadata": {},
   "outputs": [
    {
     "name": "stdout",
     "output_type": "stream",
     "text": [
      "number of mislabeled points out of total 1000 points: 293\n"
     ]
    }
   ],
   "source": [
    "data = feature[negative_dictionary]\n",
    "target = feature['feedback']\n",
    "\n",
    "# data is boolean, so import Bernoulli\n",
    "from sklearn.naive_bayes import BernoulliNB\n",
    "\n",
    "bnb = BernoulliNB()\n",
    "\n",
    "#fit model to data\n",
    "bnb.fit(data, target)\n",
    "\n",
    "#classify, store results in variable\n",
    "y_pred = bnb.predict(data)\n",
    "\n",
    "#display\n",
    "print(\"number of mislabeled points out of total {} points: {}\".format(\n",
    "    data.shape[0], (target != y_pred).sum()\n",
    "))"
   ]
  }
 ],
 "metadata": {
  "kernelspec": {
   "display_name": "Python 3",
   "language": "python",
   "name": "python3"
  },
  "language_info": {
   "codemirror_mode": {
    "name": "ipython",
    "version": 3
   },
   "file_extension": ".py",
   "mimetype": "text/x-python",
   "name": "python",
   "nbconvert_exporter": "python",
   "pygments_lexer": "ipython3",
   "version": "3.6.3"
  }
 },
 "nbformat": 4,
 "nbformat_minor": 2
}
