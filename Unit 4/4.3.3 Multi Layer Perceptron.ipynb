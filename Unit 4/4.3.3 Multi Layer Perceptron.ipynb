{
 "cells": [
  {
   "cell_type": "code",
   "execution_count": 1,
   "metadata": {
    "collapsed": true,
    "run_control": {
     "frozen": false,
     "read_only": false
    }
   },
   "outputs": [],
   "source": [
    "import numpy as np\n",
    "import pandas as pd\n",
    "import matplotlib.pyplot as plt\n",
    "import seaborn as sns\n",
    "%matplotlib inline"
   ]
  },
  {
   "cell_type": "markdown",
   "metadata": {
    "run_control": {
     "frozen": false,
     "read_only": false
    }
   },
   "source": [
    "We're ready to build our first neural network. We will have multiple features we feed into our model, each of which will go through a set of perceptron models to arrive at a response which will be trained to our output.\n",
    "\n",
    "Like many models we've covered, this can be used as both a regression or classification model.\n",
    "\n",
    "First, we need to load our dataset. For this example we'll use The Museum of Modern Art in New York's [public dataset](https://media.githubusercontent.com/media/MuseumofModernArt/collection/master/Artworks.csv) on their collection."
   ]
  },
  {
   "cell_type": "code",
   "execution_count": 2,
   "metadata": {
    "collapsed": true,
    "run_control": {
     "frozen": false,
     "read_only": false
    }
   },
   "outputs": [],
   "source": [
    "df = pd.read_csv('https://media.githubusercontent.com/media/MuseumofModernArt/collection/master/Artworks.csv')"
   ]
  },
  {
   "cell_type": "code",
   "execution_count": 3,
   "metadata": {},
   "outputs": [],
   "source": [
    "artworks = pd.DataFrame(df)"
   ]
  },
  {
   "cell_type": "code",
   "execution_count": 4,
   "metadata": {
    "run_control": {
     "frozen": false,
     "read_only": false
    },
    "scrolled": true
   },
   "outputs": [
    {
     "data": {
      "text/plain": [
       "Index(['Title', 'Artist', 'ConstituentID', 'ArtistBio', 'Nationality',\n",
       "       'BeginDate', 'EndDate', 'Gender', 'Date', 'Medium', 'Dimensions',\n",
       "       'CreditLine', 'AccessionNumber', 'Classification', 'Department',\n",
       "       'DateAcquired', 'Cataloged', 'ObjectID', 'URL', 'ThumbnailURL',\n",
       "       'Circumference (cm)', 'Depth (cm)', 'Diameter (cm)', 'Height (cm)',\n",
       "       'Length (cm)', 'Weight (kg)', 'Width (cm)', 'Seat Height (cm)',\n",
       "       'Duration (sec.)'],\n",
       "      dtype='object')"
      ]
     },
     "execution_count": 4,
     "metadata": {},
     "output_type": "execute_result"
    }
   ],
   "source": [
    "artworks.columns"
   ]
  },
  {
   "cell_type": "markdown",
   "metadata": {
    "run_control": {
     "frozen": false,
     "read_only": false
    }
   },
   "source": [
    "We'll also do a bit of data processing and cleaning, selecting columns of interest and converting URL's to booleans indicating whether they are present."
   ]
  },
  {
   "cell_type": "code",
   "execution_count": 5,
   "metadata": {
    "collapsed": true,
    "run_control": {
     "frozen": false,
     "read_only": false
    }
   },
   "outputs": [],
   "source": [
    "# Select Columns.\n",
    "artworks = artworks[['Artist', 'Nationality', 'Gender', 'Date', 'Department',\n",
    "                    'DateAcquired', 'URL', 'ThumbnailURL', 'Height (cm)', 'Width (cm)']]\n",
    "\n",
    "# Convert URL's to booleans.\n",
    "artworks['URL'] = artworks['URL'].notnull()\n",
    "artworks['ThumbnailURL'] = artworks['ThumbnailURL'].notnull()\n",
    "\n",
    "# Drop films and some other tricky rows.\n",
    "artworks = artworks[artworks['Department']!='Film']\n",
    "artworks = artworks[artworks['Department']!='Media and Performance Art']\n",
    "artworks = artworks[artworks['Department']!='Fluxus Collection']\n",
    "\n",
    "# Drop missing data.\n",
    "artworks = artworks.dropna()"
   ]
  },
  {
   "cell_type": "code",
   "execution_count": 6,
   "metadata": {
    "run_control": {
     "frozen": false,
     "read_only": false
    }
   },
   "outputs": [
    {
     "data": {
      "text/html": [
       "<div>\n",
       "<style scoped>\n",
       "    .dataframe tbody tr th:only-of-type {\n",
       "        vertical-align: middle;\n",
       "    }\n",
       "\n",
       "    .dataframe tbody tr th {\n",
       "        vertical-align: top;\n",
       "    }\n",
       "\n",
       "    .dataframe thead th {\n",
       "        text-align: right;\n",
       "    }\n",
       "</style>\n",
       "<table border=\"1\" class=\"dataframe\">\n",
       "  <thead>\n",
       "    <tr style=\"text-align: right;\">\n",
       "      <th></th>\n",
       "      <th>Artist</th>\n",
       "      <th>Nationality</th>\n",
       "      <th>Gender</th>\n",
       "      <th>Date</th>\n",
       "      <th>Department</th>\n",
       "      <th>DateAcquired</th>\n",
       "      <th>URL</th>\n",
       "      <th>ThumbnailURL</th>\n",
       "      <th>Height (cm)</th>\n",
       "      <th>Width (cm)</th>\n",
       "    </tr>\n",
       "  </thead>\n",
       "  <tbody>\n",
       "    <tr>\n",
       "      <th>0</th>\n",
       "      <td>Otto Wagner</td>\n",
       "      <td>(Austrian)</td>\n",
       "      <td>(Male)</td>\n",
       "      <td>1896</td>\n",
       "      <td>Architecture &amp; Design</td>\n",
       "      <td>1996-04-09</td>\n",
       "      <td>True</td>\n",
       "      <td>True</td>\n",
       "      <td>48.6000</td>\n",
       "      <td>168.9000</td>\n",
       "    </tr>\n",
       "    <tr>\n",
       "      <th>1</th>\n",
       "      <td>Christian de Portzamparc</td>\n",
       "      <td>(French)</td>\n",
       "      <td>(Male)</td>\n",
       "      <td>1987</td>\n",
       "      <td>Architecture &amp; Design</td>\n",
       "      <td>1995-01-17</td>\n",
       "      <td>True</td>\n",
       "      <td>True</td>\n",
       "      <td>40.6401</td>\n",
       "      <td>29.8451</td>\n",
       "    </tr>\n",
       "    <tr>\n",
       "      <th>2</th>\n",
       "      <td>Emil Hoppe</td>\n",
       "      <td>(Austrian)</td>\n",
       "      <td>(Male)</td>\n",
       "      <td>1903</td>\n",
       "      <td>Architecture &amp; Design</td>\n",
       "      <td>1997-01-15</td>\n",
       "      <td>True</td>\n",
       "      <td>True</td>\n",
       "      <td>34.3000</td>\n",
       "      <td>31.8000</td>\n",
       "    </tr>\n",
       "    <tr>\n",
       "      <th>3</th>\n",
       "      <td>Bernard Tschumi</td>\n",
       "      <td>()</td>\n",
       "      <td>(Male)</td>\n",
       "      <td>1980</td>\n",
       "      <td>Architecture &amp; Design</td>\n",
       "      <td>1995-01-17</td>\n",
       "      <td>True</td>\n",
       "      <td>True</td>\n",
       "      <td>50.8000</td>\n",
       "      <td>50.8000</td>\n",
       "    </tr>\n",
       "    <tr>\n",
       "      <th>4</th>\n",
       "      <td>Emil Hoppe</td>\n",
       "      <td>(Austrian)</td>\n",
       "      <td>(Male)</td>\n",
       "      <td>1903</td>\n",
       "      <td>Architecture &amp; Design</td>\n",
       "      <td>1997-01-15</td>\n",
       "      <td>True</td>\n",
       "      <td>True</td>\n",
       "      <td>38.4000</td>\n",
       "      <td>19.1000</td>\n",
       "    </tr>\n",
       "  </tbody>\n",
       "</table>\n",
       "</div>"
      ],
      "text/plain": [
       "                     Artist Nationality  Gender  Date             Department  \\\n",
       "0               Otto Wagner  (Austrian)  (Male)  1896  Architecture & Design   \n",
       "1  Christian de Portzamparc    (French)  (Male)  1987  Architecture & Design   \n",
       "2                Emil Hoppe  (Austrian)  (Male)  1903  Architecture & Design   \n",
       "3           Bernard Tschumi          ()  (Male)  1980  Architecture & Design   \n",
       "4                Emil Hoppe  (Austrian)  (Male)  1903  Architecture & Design   \n",
       "\n",
       "  DateAcquired   URL  ThumbnailURL  Height (cm)  Width (cm)  \n",
       "0   1996-04-09  True          True      48.6000    168.9000  \n",
       "1   1995-01-17  True          True      40.6401     29.8451  \n",
       "2   1997-01-15  True          True      34.3000     31.8000  \n",
       "3   1995-01-17  True          True      50.8000     50.8000  \n",
       "4   1997-01-15  True          True      38.4000     19.1000  "
      ]
     },
     "execution_count": 6,
     "metadata": {},
     "output_type": "execute_result"
    }
   ],
   "source": [
    "artworks.head()"
   ]
  },
  {
   "cell_type": "code",
   "execution_count": 7,
   "metadata": {},
   "outputs": [],
   "source": [
    "rows = (int)(len(artworks) / 5)\n",
    "artworks = artworks.sample(n=rows)"
   ]
  },
  {
   "cell_type": "code",
   "execution_count": 8,
   "metadata": {},
   "outputs": [
    {
     "data": {
      "text/plain": [
       "21024"
      ]
     },
     "execution_count": 8,
     "metadata": {},
     "output_type": "execute_result"
    }
   ],
   "source": [
    "len(artworks)"
   ]
  },
  {
   "cell_type": "markdown",
   "metadata": {
    "run_control": {
     "frozen": false,
     "read_only": false
    }
   },
   "source": [
    "## Building a Model\n",
    "\n",
    "Now, let's see if we can use multi-layer perceptron modeling (or \"MLP\") to see if we can classify the department a piece should go into using everything but the department name.\n",
    "\n",
    "Before we import MLP from SKLearn and establish the model we first have to ensure correct typing for our data and do some other cleaning."
   ]
  },
  {
   "cell_type": "code",
   "execution_count": 9,
   "metadata": {
    "run_control": {
     "frozen": false,
     "read_only": false
    }
   },
   "outputs": [
    {
     "data": {
      "text/plain": [
       "Artist           object\n",
       "Nationality      object\n",
       "Gender           object\n",
       "Date             object\n",
       "Department       object\n",
       "DateAcquired     object\n",
       "URL                bool\n",
       "ThumbnailURL       bool\n",
       "Height (cm)     float64\n",
       "Width (cm)      float64\n",
       "dtype: object"
      ]
     },
     "execution_count": 9,
     "metadata": {},
     "output_type": "execute_result"
    }
   ],
   "source": [
    "# Get data types.\n",
    "artworks.dtypes"
   ]
  },
  {
   "cell_type": "markdown",
   "metadata": {},
   "source": [
    "The `DateAcquired` column is an object. Let's transform that to a datetime object and add a feature for just the year the artwork was acquired."
   ]
  },
  {
   "cell_type": "code",
   "execution_count": 10,
   "metadata": {
    "run_control": {
     "frozen": false,
     "read_only": false
    }
   },
   "outputs": [
    {
     "data": {
      "text/plain": [
       "dtype('int64')"
      ]
     },
     "execution_count": 10,
     "metadata": {},
     "output_type": "execute_result"
    }
   ],
   "source": [
    "artworks['DateAcquired'] = pd.to_datetime(artworks.DateAcquired)\n",
    "artworks['YearAcquired'] = artworks.DateAcquired.dt.year\n",
    "artworks['YearAcquired'].dtype"
   ]
  },
  {
   "cell_type": "markdown",
   "metadata": {},
   "source": [
    "Great. Let's do some more miscellaneous cleaning."
   ]
  },
  {
   "cell_type": "code",
   "execution_count": 11,
   "metadata": {
    "collapsed": true,
    "run_control": {
     "frozen": false,
     "read_only": false
    }
   },
   "outputs": [],
   "source": [
    "# Remove multiple nationalities, genders, and artists.\n",
    "artworks.loc[artworks['Gender'].str.contains('\\) \\('), 'Gender'] = '\\(multiple_persons\\)'\n",
    "artworks.loc[artworks['Nationality'].str.contains('\\) \\('), 'Nationality'] = '\\(multiple_nationalities\\)'\n",
    "artworks.loc[artworks['Artist'].str.contains(','), 'Artist'] = 'Multiple_Artists'\n",
    "\n",
    "# Convert dates to start date, cutting down number of distinct examples.\n",
    "artworks['Date'] = pd.Series(artworks.Date.str.extract(\n",
    "    '([0-9]{4})', expand=False))[:-1]\n",
    "\n",
    "# Final column drops and NA drop.\n",
    "X = artworks.drop(['Department', 'DateAcquired', 'Artist', 'Nationality', 'Date'], 1)\n",
    "\n",
    "# Create dummies separately.\n",
    "artists = pd.get_dummies(artworks.Artist)\n",
    "nationalities = pd.get_dummies(artworks.Nationality)\n",
    "dates = pd.get_dummies(artworks.Date)\n",
    "\n",
    "# Concat with other variables, but artists slows this wayyyyy down so we'll keep it out for now\n",
    "X = pd.get_dummies(X, sparse=True)\n",
    "X = pd.concat([X, nationalities, dates], axis=1)\n",
    "\n",
    "Y = artworks.Department"
   ]
  },
  {
   "cell_type": "code",
   "execution_count": 12,
   "metadata": {
    "run_control": {
     "frozen": false,
     "read_only": false
    }
   },
   "outputs": [
    {
     "data": {
      "text/plain": [
       "MLPClassifier(activation='relu', alpha=0.0001, batch_size='auto', beta_1=0.9,\n",
       "       beta_2=0.999, early_stopping=False, epsilon=1e-08,\n",
       "       hidden_layer_sizes=(1000,), learning_rate='constant',\n",
       "       learning_rate_init=0.001, max_iter=200, momentum=0.9,\n",
       "       nesterovs_momentum=True, power_t=0.5, random_state=None,\n",
       "       shuffle=True, solver='adam', tol=0.0001, validation_fraction=0.1,\n",
       "       verbose=False, warm_start=False)"
      ]
     },
     "execution_count": 12,
     "metadata": {},
     "output_type": "execute_result"
    }
   ],
   "source": [
    "# Alright! We've done our prep, let's build the model.\n",
    "# Neural networks are hugely computationally intensive.\n",
    "# This may take several minutes to run.\n",
    "\n",
    "# Import the model.\n",
    "from sklearn.neural_network import MLPClassifier\n",
    "\n",
    "# Establish and fit the model, with a single, 1000 perceptron layer.\n",
    "mlp = MLPClassifier(hidden_layer_sizes=(1000,))\n",
    "mlp.fit(X, Y)"
   ]
  },
  {
   "cell_type": "code",
   "execution_count": 13,
   "metadata": {
    "run_control": {
     "frozen": false,
     "read_only": false
    }
   },
   "outputs": [
    {
     "data": {
      "text/plain": [
       "0.5102739726027398"
      ]
     },
     "execution_count": 13,
     "metadata": {},
     "output_type": "execute_result"
    }
   ],
   "source": [
    "mlp.score(X, Y)"
   ]
  },
  {
   "cell_type": "code",
   "execution_count": 14,
   "metadata": {
    "run_control": {
     "frozen": false,
     "read_only": false
    }
   },
   "outputs": [
    {
     "data": {
      "text/plain": [
       "Prints & Illustrated Books    0.526351\n",
       "Photography                   0.226931\n",
       "Architecture & Design         0.108019\n",
       "Drawings                      0.103881\n",
       "Painting & Sculpture          0.034817\n",
       "Name: Department, dtype: float64"
      ]
     },
     "execution_count": 14,
     "metadata": {},
     "output_type": "execute_result"
    }
   ],
   "source": [
    "Y.value_counts()/len(Y)"
   ]
  },
  {
   "cell_type": "code",
   "execution_count": 15,
   "metadata": {
    "run_control": {
     "frozen": false,
     "read_only": false
    }
   },
   "outputs": [
    {
     "data": {
      "text/plain": [
       "array([0.61359316, 0.48180737, 0.60704091, 0.52545195, 0.49369498])"
      ]
     },
     "execution_count": 15,
     "metadata": {},
     "output_type": "execute_result"
    }
   ],
   "source": [
    "from sklearn.model_selection import cross_val_score\n",
    "cross_val_score(mlp, X, Y, cv=5)"
   ]
  },
  {
   "cell_type": "markdown",
   "metadata": {
    "run_control": {
     "frozen": false,
     "read_only": false
    }
   },
   "source": [
    "Now we got a lot of information from all of this. Firstly we can see that the model seems to overfit, though there is still so remaining performance when validated with cross validation. This is a feature of neural networks that aren't given enough data for the number of features present. _Neural networks, in general, like_ a lot _of data_. You may also have noticed something also about neural networks: _they can take a_ long _time to run_. Try increasing the layer size by adding a zero. Feel free to interrupt the kernel if you don't have time...\n",
    "\n",
    "Also note that we created bools for artist's name but left them out. Both of the above points are the reason for that. It would take much longer to run and it would be much more prone to overfitting."
   ]
  },
  {
   "cell_type": "markdown",
   "metadata": {
    "run_control": {
     "frozen": false,
     "read_only": false
    }
   },
   "source": [
    "## Model parameters\n",
    "\n",
    "Now, before we move on and let you loose with some tasks to work on the model, let's go over the parameters.\n",
    "\n",
    "We included one parameter: hidden layer size. Remember in the previous lesson, when we talked about layers in a neural network. This tells us how many and how big to make our layers. Pass in a tuple that specifies each layer's size. Our network is 1000 neurons wide and one layer. (100, 4, ) would create a network with two layers, one 100 wide and the other 4.\n",
    "\n",
    "How many layers to include is determined by two things: computational resources and cross validation searching for convergence. It's generally less than the number of input variables you have.\n",
    "\n",
    "You can also set an alpha. Neural networks like this use a regularization parameter that penalizes large coefficients just like we discussed in the advanced regression section. Alpha scales that penalty.\n",
    "\n",
    "Lastly, we'll discuss the activation function. The activation function determines whether the output from an individual perceptron is binary or continuous. By default this is a 'relu', or 'rectified linear unit function' function. In the exercise we went through earlier we used this binary function, but we discussed the _sigmoid_ as a reasonable alternative. The _sigmoid_ (called 'logistic' by SKLearn because it's a 'logistic sigmoid function') allows for continuous variables between 0 and 1, which allows for a more nuanced model. It does come at the cost of increased computational complexity.\n",
    "\n",
    "If you want to learn more about these, study [activation functions](https://en.wikipedia.org/wiki/Activation_function) and [multilayer perceptrons](https://en.wikipedia.org/wiki/Multilayer_perceptron). The [Deep Learning](http://www.deeplearningbook.org/) book referenced earlier goes into great detail on the linear algebra involved.\n",
    "\n",
    "You could also just test the models with cross validation. Unless neural networks are your specialty cross validation should be sufficient.\n",
    "\n",
    "For the other parameters and their defaults, check out the [MLPClassifier documentaiton](http://scikit-learn.org/stable/modules/generated/sklearn.neural_network.MLPClassifier.html#sklearn.neural_network.MLPClassifier)."
   ]
  },
  {
   "cell_type": "markdown",
   "metadata": {},
   "source": [
    "## Drill: Playing with layers\n",
    "\n",
    "Now it's your turn. Using the space below, experiment with different hidden layer structures. You can try this on a subset of the data to improve runtime. See how things vary. See what seems to matter the most. Feel free to manipulate other parameters as well. It may also be beneficial to do some real feature selection work..."
   ]
  },
  {
   "cell_type": "code",
   "execution_count": 16,
   "metadata": {},
   "outputs": [
    {
     "data": {
      "text/html": [
       "<div>\n",
       "<style scoped>\n",
       "    .dataframe tbody tr th:only-of-type {\n",
       "        vertical-align: middle;\n",
       "    }\n",
       "\n",
       "    .dataframe tbody tr th {\n",
       "        vertical-align: top;\n",
       "    }\n",
       "\n",
       "    .dataframe thead th {\n",
       "        text-align: right;\n",
       "    }\n",
       "</style>\n",
       "<table border=\"1\" class=\"dataframe\">\n",
       "  <thead>\n",
       "    <tr style=\"text-align: right;\">\n",
       "      <th></th>\n",
       "      <th>Artist</th>\n",
       "      <th>Nationality</th>\n",
       "      <th>Gender</th>\n",
       "      <th>Date</th>\n",
       "      <th>Department</th>\n",
       "      <th>DateAcquired</th>\n",
       "      <th>URL</th>\n",
       "      <th>ThumbnailURL</th>\n",
       "      <th>Height (cm)</th>\n",
       "      <th>Width (cm)</th>\n",
       "      <th>YearAcquired</th>\n",
       "    </tr>\n",
       "  </thead>\n",
       "  <tbody>\n",
       "    <tr>\n",
       "      <th>53281</th>\n",
       "      <td>Guy Bourdin</td>\n",
       "      <td>(French)</td>\n",
       "      <td>(Male)</td>\n",
       "      <td>1956</td>\n",
       "      <td>Photography</td>\n",
       "      <td>1998-12-10</td>\n",
       "      <td>True</td>\n",
       "      <td>True</td>\n",
       "      <td>23.0000</td>\n",
       "      <td>16.400</td>\n",
       "      <td>1998</td>\n",
       "    </tr>\n",
       "    <tr>\n",
       "      <th>36232</th>\n",
       "      <td>Rachel Whiteread</td>\n",
       "      <td>(British)</td>\n",
       "      <td>(Female)</td>\n",
       "      <td>1997</td>\n",
       "      <td>Drawings</td>\n",
       "      <td>2000-12-12</td>\n",
       "      <td>True</td>\n",
       "      <td>True</td>\n",
       "      <td>26.9876</td>\n",
       "      <td>19.685</td>\n",
       "      <td>2000</td>\n",
       "    </tr>\n",
       "    <tr>\n",
       "      <th>85755</th>\n",
       "      <td>Peter Stauss</td>\n",
       "      <td>(German)</td>\n",
       "      <td>(Male)</td>\n",
       "      <td>2001</td>\n",
       "      <td>Drawings</td>\n",
       "      <td>2005-05-10</td>\n",
       "      <td>True</td>\n",
       "      <td>True</td>\n",
       "      <td>21.0000</td>\n",
       "      <td>17.145</td>\n",
       "      <td>2005</td>\n",
       "    </tr>\n",
       "    <tr>\n",
       "      <th>58158</th>\n",
       "      <td>Antonio Frasconi</td>\n",
       "      <td>(American)</td>\n",
       "      <td>(Male)</td>\n",
       "      <td>1951</td>\n",
       "      <td>Prints &amp; Illustrated Books</td>\n",
       "      <td>1952-05-20</td>\n",
       "      <td>True</td>\n",
       "      <td>True</td>\n",
       "      <td>49.5000</td>\n",
       "      <td>42.300</td>\n",
       "      <td>1952</td>\n",
       "    </tr>\n",
       "    <tr>\n",
       "      <th>112940</th>\n",
       "      <td>Vanessa Beecroft</td>\n",
       "      <td>(Italian)</td>\n",
       "      <td>(Female)</td>\n",
       "      <td>1999</td>\n",
       "      <td>Prints &amp; Illustrated Books</td>\n",
       "      <td>2000-11-09</td>\n",
       "      <td>True</td>\n",
       "      <td>True</td>\n",
       "      <td>50.4000</td>\n",
       "      <td>70.200</td>\n",
       "      <td>2000</td>\n",
       "    </tr>\n",
       "  </tbody>\n",
       "</table>\n",
       "</div>"
      ],
      "text/plain": [
       "                  Artist Nationality    Gender  Date  \\\n",
       "53281        Guy Bourdin    (French)    (Male)  1956   \n",
       "36232   Rachel Whiteread   (British)  (Female)  1997   \n",
       "85755       Peter Stauss    (German)    (Male)  2001   \n",
       "58158   Antonio Frasconi  (American)    (Male)  1951   \n",
       "112940  Vanessa Beecroft   (Italian)  (Female)  1999   \n",
       "\n",
       "                        Department DateAcquired   URL  ThumbnailURL  \\\n",
       "53281                  Photography   1998-12-10  True          True   \n",
       "36232                     Drawings   2000-12-12  True          True   \n",
       "85755                     Drawings   2005-05-10  True          True   \n",
       "58158   Prints & Illustrated Books   1952-05-20  True          True   \n",
       "112940  Prints & Illustrated Books   2000-11-09  True          True   \n",
       "\n",
       "        Height (cm)  Width (cm)  YearAcquired  \n",
       "53281       23.0000      16.400          1998  \n",
       "36232       26.9876      19.685          2000  \n",
       "85755       21.0000      17.145          2005  \n",
       "58158       49.5000      42.300          1952  \n",
       "112940      50.4000      70.200          2000  "
      ]
     },
     "execution_count": 16,
     "metadata": {},
     "output_type": "execute_result"
    }
   ],
   "source": [
    "artworks.head()"
   ]
  },
  {
   "cell_type": "code",
   "execution_count": 17,
   "metadata": {},
   "outputs": [
    {
     "data": {
      "text/plain": [
       "<matplotlib.axes._subplots.AxesSubplot at 0xdd2d150>"
      ]
     },
     "execution_count": 17,
     "metadata": {},
     "output_type": "execute_result"
    },
    {
     "data": {
      "image/png": "[encoded data removed]",
      "text/plain": [
       "<matplotlib.figure.Figure at 0xd6d7f10>"
      ]
     },
     "metadata": {},
     "output_type": "display_data"
    }
   ],
   "source": [
    "sns.set_style('white')\n",
    "sns.heatmap(artworks.corr())"
   ]
  },
  {
   "cell_type": "code",
   "execution_count": 18,
   "metadata": {},
   "outputs": [],
   "source": [
    "artworks.drop(['ThumbnailURL'], 1, inplace=True)"
   ]
  },
  {
   "cell_type": "code",
   "execution_count": 19,
   "metadata": {
    "collapsed": true
   },
   "outputs": [],
   "source": [
    "# Your code here. Experiment with hidden layers to build your own model.\n",
    "\n",
    "# subsample of subsample\n",
    "rows = (int)(len(artworks) / 5)\n",
    "artworks = artworks.sample(n=rows)\n",
    "\n",
    "# Final column drops and NA drop.\n",
    "X = artworks.drop(['Department', 'DateAcquired', 'Artist', 'Nationality', 'Date'], 1)\n",
    "\n",
    "# Create dummies separately.\n",
    "nationalities = pd.get_dummies(artworks.Nationality)\n",
    "dates = pd.get_dummies(artworks.Date)\n",
    "\n",
    "# Concat with other variables, but artists slows this wayyyyy down so we'll keep it out for now\n",
    "X = pd.get_dummies(X, sparse=True)\n",
    "X = pd.concat([X, nationalities, dates], axis=1)\n",
    "\n",
    "Y = artworks.Department\n",
    "\n",
    "def printMLP(mlp, X, Y):\n",
    "    print('Percent Accuracy: {}'.format(mlp.score(X, Y)))\n",
    "#     print('Distribution:\\n{}'.format(Y.value_counts()/len(Y)))\n",
    "    print('Cross Val Score: {}'.format(cross_val_score(mlp, X, Y, cv=5)))"
   ]
  },
  {
   "cell_type": "code",
   "execution_count": 20,
   "metadata": {},
   "outputs": [
    {
     "name": "stdout",
     "output_type": "stream",
     "text": [
      "----------------------------------------\n",
      "1000 hidden layers\n",
      "Percent Accuracy: 0.5340152235965747\n",
      "Distribution:\n",
      "Prints & Illustrated Books    0.518316\n",
      "Photography                   0.224786\n",
      "Drawings                      0.109895\n",
      "Architecture & Design         0.107755\n",
      "Painting & Sculpture          0.039248\n",
      "Name: Department, dtype: float64\n",
      "Cross Val Score: [0.25178147 0.52612827 0.52675386 0.5202381  0.52800954]\n",
      "----------------------------------------\n",
      "1250 hidden layers\n",
      "Percent Accuracy: 0.3139866793529971\n",
      "Distribution:\n",
      "Prints & Illustrated Books    0.518316\n",
      "Photography                   0.224786\n",
      "Drawings                      0.109895\n",
      "Architecture & Design         0.107755\n",
      "Painting & Sculpture          0.039248\n",
      "Name: Department, dtype: float64\n",
      "Cross Val Score: [0.53325416 0.25178147 0.10939358 0.24880952 0.53039333]\n",
      "----------------------------------------\n",
      "1500 hidden layers\n",
      "Percent Accuracy: 0.3617982873453853\n",
      "Distribution:\n",
      "Prints & Illustrated Books    0.518316\n",
      "Photography                   0.224786\n",
      "Drawings                      0.109895\n",
      "Architecture & Design         0.107755\n",
      "Painting & Sculpture          0.039248\n",
      "Name: Department, dtype: float64\n",
      "Cross Val Score: [0.54275534 0.15558195 0.53032105 0.23571429 0.52085816]\n",
      "----------------------------------------\n",
      "1750 hidden layers\n",
      "Percent Accuracy: 0.24857278782112274\n",
      "Distribution:\n",
      "Prints & Illustrated Books    0.518316\n",
      "Photography                   0.224786\n",
      "Drawings                      0.109895\n",
      "Architecture & Design         0.107755\n",
      "Painting & Sculpture          0.039248\n",
      "Name: Department, dtype: float64\n",
      "Cross Val Score: [0.56532067 0.53562945 0.53626635 0.58452381 0.15971395]\n"
     ]
    }
   ],
   "source": [
    "for i in range(1000, 2000, 250):\n",
    "    print('-'*40)\n",
    "    print('{} hidden layers'.format(i))\n",
    "    mlp = MLPClassifier(hidden_layer_sizes=(i,))\n",
    "    mlp.fit(X, Y)\n",
    "    printMLP(mlp, X, Y)"
   ]
  },
  {
   "cell_type": "code",
   "execution_count": 21,
   "metadata": {},
   "outputs": [
    {
     "name": "stdout",
     "output_type": "stream",
     "text": [
      "----------------------------------------\n",
      "Two 1000 hidden layers\n",
      "Percent Accuracy: 0.22668886774500477\n",
      "Distribution:\n",
      "Prints & Illustrated Books    0.518316\n",
      "Photography                   0.224786\n",
      "Drawings                      0.109895\n",
      "Architecture & Design         0.107755\n",
      "Painting & Sculpture          0.039248\n",
      "Name: Department, dtype: float64\n",
      "Cross Val Score: [0.51900238 0.53087886 0.24732461 0.2452381  0.5125149 ]\n",
      "----------------------------------------\n",
      "Two 1250 hidden layers\n",
      "Percent Accuracy: 0.5309229305423406\n",
      "Distribution:\n",
      "Prints & Illustrated Books    0.518316\n",
      "Photography                   0.224786\n",
      "Drawings                      0.109895\n",
      "Architecture & Design         0.107755\n",
      "Painting & Sculpture          0.039248\n",
      "Name: Department, dtype: float64\n",
      "Cross Val Score: [0.10688836 0.2304038  0.53269917 0.52142857 0.24553039]\n",
      "----------------------------------------\n",
      "Two 1500 hidden layers\n",
      "Percent Accuracy: 0.28116079923882015\n",
      "Distribution:\n",
      "Prints & Illustrated Books    0.518316\n",
      "Photography                   0.224786\n",
      "Drawings                      0.109895\n",
      "Architecture & Design         0.107755\n",
      "Painting & Sculpture          0.039248\n",
      "Name: Department, dtype: float64\n",
      "Cross Val Score: [0.3847981  0.53562945 0.56599287 0.25       0.5363528 ]\n",
      "----------------------------------------\n",
      "Two 1750 hidden layers\n",
      "Percent Accuracy: 0.3594196003805899\n",
      "Distribution:\n",
      "Prints & Illustrated Books    0.518316\n",
      "Photography                   0.224786\n",
      "Drawings                      0.109895\n",
      "Architecture & Design         0.107755\n",
      "Painting & Sculpture          0.039248\n",
      "Name: Department, dtype: float64\n",
      "Cross Val Score: [0.52969121 0.61995249 0.3686088  0.2297619  0.53158522]\n"
     ]
    }
   ],
   "source": [
    "for i in range(1000, 2000, 250):\n",
    "    print('-'*40)\n",
    "    print('Two {} hidden layers'.format(i))\n",
    "    mlp = MLPClassifier(hidden_layer_sizes=(i,i))\n",
    "    mlp.fit(X, Y)\n",
    "    printMLP(mlp, X, Y)"
   ]
  },
  {
   "cell_type": "code",
   "execution_count": 22,
   "metadata": {},
   "outputs": [
    {
     "name": "stdout",
     "output_type": "stream",
     "text": [
      "----------------------------------------\n",
      "Three 1000 hidden layers\n",
      "Percent Accuracy: 0.5235490009514748\n",
      "Distribution:\n",
      "Prints & Illustrated Books    0.518316\n",
      "Photography                   0.224786\n",
      "Drawings                      0.109895\n",
      "Architecture & Design         0.107755\n",
      "Painting & Sculpture          0.039248\n",
      "Name: Department, dtype: float64\n",
      "Cross Val Score: [0.41092637 0.53444181 0.56123662 0.54285714 0.5363528 ]\n",
      "----------------------------------------\n",
      "Three 1250 hidden layers\n",
      "Percent Accuracy: 0.5316365366317792\n",
      "Distribution:\n",
      "Prints & Illustrated Books    0.518316\n",
      "Photography                   0.224786\n",
      "Drawings                      0.109895\n",
      "Architecture & Design         0.107755\n",
      "Painting & Sculpture          0.039248\n",
      "Name: Department, dtype: float64\n",
      "Cross Val Score: [0.53087886 0.54750594 0.55648038 0.53928571 0.53277712]\n",
      "----------------------------------------\n",
      "Three 1500 hidden layers\n",
      "Percent Accuracy: 0.5306850618458611\n",
      "Distribution:\n",
      "Prints & Illustrated Books    0.518316\n",
      "Photography                   0.224786\n",
      "Drawings                      0.109895\n",
      "Architecture & Design         0.107755\n",
      "Painting & Sculpture          0.039248\n",
      "Name: Department, dtype: float64\n",
      "Cross Val Score: [0.52850356 0.54988124 0.54577883 0.53928571 0.53158522]\n",
      "----------------------------------------\n",
      "Three 1750 hidden layers\n",
      "Percent Accuracy: 0.5423406279733587\n",
      "Distribution:\n",
      "Prints & Illustrated Books    0.518316\n",
      "Photography                   0.224786\n",
      "Drawings                      0.109895\n",
      "Architecture & Design         0.107755\n",
      "Painting & Sculpture          0.039248\n",
      "Name: Department, dtype: float64\n",
      "Cross Val Score: [0.53444181 0.5368171  0.5588585  0.23690476 0.5363528 ]\n"
     ]
    }
   ],
   "source": [
    "for i in range(1000, 2000, 250):\n",
    "    print('-'*40)\n",
    "    print('Three {} hidden layers'.format(i))\n",
    "    mlp = MLPClassifier(hidden_layer_sizes=(i,i, i))\n",
    "    mlp.fit(X, Y)\n",
    "    printMLP(mlp, X, Y)"
   ]
  },
  {
   "cell_type": "markdown",
   "metadata": {},
   "source": [
    "# As the number of hidden layers increases, the results of MLP stabilizes and the difference in accuracy decreases."
   ]
  }
 ],
 "metadata": {
  "hide_input": false,
  "kernelspec": {
   "display_name": "Python 3",
   "language": "python",
   "name": "python3"
  },
  "language_info": {
   "codemirror_mode": {
    "name": "ipython",
    "version": 3
   },
   "file_extension": ".py",
   "mimetype": "text/x-python",
   "name": "python",
   "nbconvert_exporter": "python",
   "pygments_lexer": "ipython3",
   "version": "3.6.5"
  },
  "toc": {
   "colors": {
    "hover_highlight": "#DAA520",
    "running_highlight": "#FF0000",
    "selected_highlight": "#FFD700"
   },
   "moveMenuLeft": true,
   "nav_menu": {
    "height": "86px",
    "width": "252px"
   },
   "navigate_menu": true,
   "number_sections": true,
   "sideBar": true,
   "threshold": 4,
   "toc_cell": false,
   "toc_section_display": "block",
   "toc_window_display": false
  }
 },
 "nbformat": 4,
 "nbformat_minor": 2
}
