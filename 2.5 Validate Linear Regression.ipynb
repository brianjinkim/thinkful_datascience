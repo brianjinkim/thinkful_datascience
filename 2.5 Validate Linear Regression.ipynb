{
 "cells": [
  {
   "cell_type": "code",
   "execution_count": 1,
   "metadata": {},
   "outputs": [],
   "source": [
    "import math\n",
    "\n",
    "import numpy as np\n",
    "import pandas as pd\n",
    "import matplotlib.pyplot as plt\n",
    "import seaborn as sns\n",
    "import statsmodels.formula.api as smf\n",
    "from statsmodels.sandbox.regression.predstd import wls_prediction_std\n",
    "\n",
    "%matplotlib inline\n",
    "pd.options.display.float_format = '{:.3f}'.format"
   ]
  },
  {
   "cell_type": "code",
   "execution_count": 3,
   "metadata": {},
   "outputs": [],
   "source": [
    "df2 = pd.read_csv('../Datasets/2014 NY Offenses.csv')\n",
    "df2.columns = ['city', 'population', 'violent crime', 'murder', 'rape (new definition)', 'rape (old definition)', 'robbery',\n",
    "              'aggrevated assault', 'property_crime', 'burglary', 'larceny-theft', 'motor vehicle theft', 'arson', 'NaN']\n",
    "df2['robbery'] = df2['robbery'].replace('[^0-9]+', '', regex=True)\n",
    "df2['population'] = df2['population'].replace('[^0-9]+', '', regex=True)\n",
    "df2['property_crime'] = df2['property_crime'].replace('[^0-9]+', '', regex=True)\n",
    "df2 = df2[['population', 'robbery', 'murder', 'property_crime']].dropna()\n",
    "df2 = df2.astype('int64')"
   ]
  },
  {
   "cell_type": "code",
   "execution_count": 5,
   "metadata": {},
   "outputs": [],
   "source": [
    "df2['population_sq'] = (df2['population'] * df2['population']).apply(lambda x: '%.f' % x)\n",
    "df2['murder'] = np.where(df2['murder'] > 0, 1, 0)\n",
    "df2['robbery'] = np.where(df2['robbery'] > 0, 1, 0)"
   ]
  },
  {
   "cell_type": "code",
   "execution_count": 10,
   "metadata": {},
   "outputs": [
    {
     "data": {
      "text/html": [
       "<div>\n",
       "<style scoped>\n",
       "    .dataframe tbody tr th:only-of-type {\n",
       "        vertical-align: middle;\n",
       "    }\n",
       "\n",
       "    .dataframe tbody tr th {\n",
       "        vertical-align: top;\n",
       "    }\n",
       "\n",
       "    .dataframe thead th {\n",
       "        text-align: right;\n",
       "    }\n",
       "</style>\n",
       "<table border=\"1\" class=\"dataframe\">\n",
       "  <thead>\n",
       "    <tr style=\"text-align: right;\">\n",
       "      <th></th>\n",
       "      <th>population</th>\n",
       "      <th>robbery</th>\n",
       "      <th>murder</th>\n",
       "      <th>property_crime</th>\n",
       "      <th>population_sq</th>\n",
       "    </tr>\n",
       "  </thead>\n",
       "  <tbody>\n",
       "    <tr>\n",
       "      <th>0</th>\n",
       "      <td>1851</td>\n",
       "      <td>0</td>\n",
       "      <td>0</td>\n",
       "      <td>11</td>\n",
       "      <td>3426201</td>\n",
       "    </tr>\n",
       "    <tr>\n",
       "      <th>1</th>\n",
       "      <td>2568</td>\n",
       "      <td>1</td>\n",
       "      <td>0</td>\n",
       "      <td>49</td>\n",
       "      <td>6594624</td>\n",
       "    </tr>\n",
       "    <tr>\n",
       "      <th>2</th>\n",
       "      <td>820</td>\n",
       "      <td>0</td>\n",
       "      <td>0</td>\n",
       "      <td>1</td>\n",
       "      <td>672400</td>\n",
       "    </tr>\n",
       "  </tbody>\n",
       "</table>\n",
       "</div>"
      ],
      "text/plain": [
       "   population  robbery  murder  property_crime population_sq\n",
       "0        1851        0       0              11       3426201\n",
       "1        2568        1       0              49       6594624\n",
       "2         820        0       0               1        672400"
      ]
     },
     "execution_count": 10,
     "metadata": {},
     "output_type": "execute_result"
    }
   ],
   "source": [
    "df2.head(3)"
   ]
  },
  {
   "cell_type": "markdown",
   "metadata": {},
   "source": [
    "## I am attempting to validate a regression model for prediction. To do this, I want to achieve a model with a consistent R^2 and only statistically significant parameters across multiple samples. Based on the validation test, I will create a revised model and test both old and new models on a new holdout."
   ]
  },
  {
   "cell_type": "code",
   "execution_count": 23,
   "metadata": {},
   "outputs": [],
   "source": [
    "linear_formula = 'property_crime ~ population+population_sq+murder+robbery'\n",
    "lm=smf.ols(formula=linear_formula, data=df2).fit()"
   ]
  },
  {
   "cell_type": "code",
   "execution_count": 24,
   "metadata": {},
   "outputs": [
    {
     "name": "stdout",
     "output_type": "stream",
     "text": [
      "R^2 Value:  0.9999999954627793\n",
      "P Valuesn:\n",
      " Intercept                     0.061\n",
      "population_sq[T.104755225]    0.058\n",
      "population_sq[T.10497600]     0.068\n",
      "population_sq[T.105555076]    0.347\n",
      "population_sq[T.1061847396]   0.313\n",
      "population_sq[T.1063738225]   0.136\n",
      "population_sq[T.107584]       0.067\n",
      "population_sq[T.10837264]     0.096\n",
      "population_sq[T.108910096]    0.045\n",
      "population_sq[T.109244304]    0.034\n",
      "population_sq[T.11042329]     0.088\n",
      "population_sq[T.11108889]     0.119\n",
      "population_sq[T.1129833769]   0.040\n",
      "population_sq[T.113827561]    0.106\n",
      "population_sq[T.1153145764]   0.108\n",
      "population_sq[T.11539609]     0.063\n",
      "population_sq[T.116316225]    0.031\n",
      "population_sq[T.117310561]    0.048\n",
      "population_sq[T.1175056]      0.079\n",
      "population_sq[T.11806096]     0.093\n",
      "population_sq[T.11819844]     0.074\n",
      "population_sq[T.1187698369]   0.034\n",
      "population_sq[T.11909401]     0.086\n",
      "population_sq[T.11978521]     0.102\n",
      "population_sq[T.1200830409]   0.743\n",
      "population_sq[T.120450625]    0.186\n",
      "population_sq[T.120780100]    0.048\n",
      "population_sq[T.121903681]    0.030\n",
      "population_sq[T.1225449]      0.075\n",
      "population_sq[T.1227664]      0.056\n",
      "                               ... \n",
      "population_sq[T.8880400]      0.061\n",
      "population_sq[T.8922169]      0.131\n",
      "population_sq[T.8952064]      0.093\n",
      "population_sq[T.90421081]     0.054\n",
      "population_sq[T.90763729]     0.191\n",
      "population_sq[T.9108324]      0.063\n",
      "population_sq[T.91087936]     0.171\n",
      "population_sq[T.91126116]     0.098\n",
      "population_sq[T.91680625]     0.081\n",
      "population_sq[T.9168784]      0.081\n",
      "population_sq[T.9180900]      0.031\n",
      "population_sq[T.9320809]      0.081\n",
      "population_sq[T.933546916]    0.072\n",
      "population_sq[T.939177316]    0.015\n",
      "population_sq[T.9436956736]   0.014\n",
      "population_sq[T.950242276]    0.013\n",
      "population_sq[T.9504889]      0.085\n",
      "population_sq[T.950625]       0.077\n",
      "population_sq[T.95550625]     0.070\n",
      "population_sq[T.960132196]    0.319\n",
      "population_sq[T.9641025]      0.077\n",
      "population_sq[T.964324]       0.065\n",
      "population_sq[T.9720974025]   0.005\n",
      "population_sq[T.984064]       0.076\n",
      "population_sq[T.9903609]      0.094\n",
      "population_sq[T.9966649]      0.092\n",
      "population_sq[T.9972964]      0.059\n",
      "population                    0.000\n",
      "murder                        0.066\n",
      "robbery                       0.143\n",
      "Length: 368, dtype: float64\n"
     ]
    }
   ],
   "source": [
    "print('R^2 Value: ',lm.rsquared)\n",
    "print('P Valuesn:\\n', lm.pvalues)"
   ]
  },
  {
   "cell_type": "markdown",
   "metadata": {},
   "source": [
    "Looking at the p values, it looks like Robbery has a miniscule effect on property crime."
   ]
  },
  {
   "cell_type": "code",
   "execution_count": 27,
   "metadata": {},
   "outputs": [
    {
     "name": "stdout",
     "output_type": "stream",
     "text": [
      "Intercept    0.979\n",
      "population   0.000\n",
      "murder       0.000\n",
      "dtype: float64\n"
     ]
    }
   ],
   "source": [
    "linear_formula = 'property_crime ~ population+murder'\n",
    "lm=smf.ols(formula=linear_formula, data=df2).fit()\n",
    "print(lm.pvalues)"
   ]
  },
  {
   "cell_type": "code",
   "execution_count": 28,
   "metadata": {},
   "outputs": [
    {
     "data": {
      "text/html": [
       "<div>\n",
       "<style scoped>\n",
       "    .dataframe tbody tr th:only-of-type {\n",
       "        vertical-align: middle;\n",
       "    }\n",
       "\n",
       "    .dataframe tbody tr th {\n",
       "        vertical-align: top;\n",
       "    }\n",
       "\n",
       "    .dataframe thead th {\n",
       "        text-align: right;\n",
       "    }\n",
       "</style>\n",
       "<table border=\"1\" class=\"dataframe\">\n",
       "  <thead>\n",
       "    <tr style=\"text-align: right;\">\n",
       "      <th></th>\n",
       "      <th>0</th>\n",
       "      <th>1</th>\n",
       "    </tr>\n",
       "  </thead>\n",
       "  <tbody>\n",
       "    <tr>\n",
       "      <th>Intercept</th>\n",
       "      <td>-62.494</td>\n",
       "      <td>64.171</td>\n",
       "    </tr>\n",
       "    <tr>\n",
       "      <th>population</th>\n",
       "      <td>0.016</td>\n",
       "      <td>0.016</td>\n",
       "    </tr>\n",
       "    <tr>\n",
       "      <th>murder</th>\n",
       "      <td>491.741</td>\n",
       "      <td>836.532</td>\n",
       "    </tr>\n",
       "  </tbody>\n",
       "</table>\n",
       "</div>"
      ],
      "text/plain": [
       "                 0       1\n",
       "Intercept  -62.494  64.171\n",
       "population   0.016   0.016\n",
       "murder     491.741 836.532"
      ]
     },
     "execution_count": 28,
     "metadata": {},
     "output_type": "execute_result"
    }
   ],
   "source": [
    "lm.conf_int()"
   ]
  },
  {
   "cell_type": "code",
   "execution_count": null,
   "metadata": {},
   "outputs": [],
   "source": [
    "prstd, iv_l, iv_u = wls_prediction_std(lm)\n",
    "\n",
    "plt.figure()\n",
    "plt.plot(iv_u[0:15], 'o', color='green')\n",
    "plt.plot(iv_l[0:15], 'o', color='green')\n",
    "plt.plot(lm.fittedvalues[0:15], 'o', color='black'))\n",
    "plt.title('black: predicted, ')"
   ]
  }
 ],
 "metadata": {
  "kernelspec": {
   "display_name": "Python 3",
   "language": "python",
   "name": "python3"
  },
  "language_info": {
   "codemirror_mode": {
    "name": "ipython",
    "version": 3
   },
   "file_extension": ".py",
   "mimetype": "text/x-python",
   "name": "python",
   "nbconvert_exporter": "python",
   "pygments_lexer": "ipython3",
   "version": "3.6.3"
  }
 },
 "nbformat": 4,
 "nbformat_minor": 2
}
