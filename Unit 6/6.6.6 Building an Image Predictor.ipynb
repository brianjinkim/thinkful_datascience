{
 "cells": [
  {
   "cell_type": "code",
   "execution_count": 1,
   "metadata": {},
   "outputs": [
    {
     "name": "stderr",
     "output_type": "stream",
     "text": [
      "Using TensorFlow backend.\n"
     ]
    }
   ],
   "source": [
    "from keras.preprocessing.image import ImageDataGenerator\n",
    "from keras.models import Sequential\n",
    "from keras.layers import Conv2D, MaxPooling2D\n",
    "from keras.layers import Activation, Dropout, Flatten, Dense\n",
    "from keras.applications.inception_v3 import InceptionV3, preprocess_input\n",
    "from keras import backend as K"
   ]
  },
  {
   "cell_type": "code",
   "execution_count": 2,
   "metadata": {},
   "outputs": [],
   "source": [
    "# allocates GPU memory based on runtime allocations. doesn't releases memory because of potential memory fragmentation\n",
    "# without this option, getting images will not work\n",
    "import tensorflow as tf\n",
    "config = tf.ConfigProto()\n",
    "config.gpu_options.allow_growth = True\n",
    "session = tf.Session(config=config)"
   ]
  },
  {
   "cell_type": "code",
   "execution_count": 27,
   "metadata": {},
   "outputs": [],
   "source": [
    "# dimensions of our images.\n",
    "img_width, img_height = 150, 150\n",
    "\n",
    "train_data_dir = 'data/train'\n",
    "validation_data_dir = 'data/validation'\n",
    "nb_train_samples = 358\n",
    "nb_validation_samples = 362\n",
    "epochs = 50\n",
    "batch_size = 16\n",
    "\n",
    "if K.image_data_format() == 'channels_first':\n",
    "    input_shape = (3, img_width, img_height)\n",
    "else:\n",
    "    input_shape = (img_width, img_height, 3)"
   ]
  },
  {
   "cell_type": "code",
   "execution_count": 17,
   "metadata": {},
   "outputs": [],
   "source": [
    "model = Sequential()\n",
    "model.add(Conv2D(32, (3, 3), input_shape=input_shape))\n",
    "model.add(Activation('relu'))\n",
    "model.add(MaxPooling2D(pool_size=(2, 2)))\n",
    "\n",
    "model.add(Conv2D(32, (3, 3)))\n",
    "model.add(Activation('relu'))\n",
    "model.add(MaxPooling2D(pool_size=(2, 2)))\n",
    "\n",
    "model.add(Conv2D(64, (3, 3)))\n",
    "model.add(Activation('relu'))\n",
    "model.add(MaxPooling2D(pool_size=(2, 2)))\n",
    "\n",
    "model.add(Flatten())\n",
    "model.add(Dense(64))\n",
    "model.add(Activation('relu'))\n",
    "model.add(Dropout(0.5))\n",
    "model.add(Dense(1))\n",
    "model.add(Activation('sigmoid'))\n",
    "\n",
    "model.compile(loss='binary_crossentropy',\n",
    "              optimizer='rmsprop',\n",
    "              metrics=['accuracy'])"
   ]
  },
  {
   "cell_type": "code",
   "execution_count": 18,
   "metadata": {},
   "outputs": [],
   "source": [
    "# this is the augmentation configuration for training\n",
    "train_datagen = ImageDataGenerator(\n",
    "    rescale=1./255,\n",
    "    shear_range=0.2,\n",
    "    zoom_range=0.2,\n",
    "    horizontal_flip=True)"
   ]
  },
  {
   "cell_type": "code",
   "execution_count": 28,
   "metadata": {},
   "outputs": [],
   "source": [
    "# this is the augmentation configuration we will use for testing:\n",
    "test_datagen = ImageDataGenerator(\n",
    "    rescale=1./255)"
   ]
  },
  {
   "cell_type": "code",
   "execution_count": 20,
   "metadata": {},
   "outputs": [
    {
     "name": "stdout",
     "output_type": "stream",
     "text": [
      "Found 361 images belonging to 2 classes.\n"
     ]
    }
   ],
   "source": [
    "train_generator = train_datagen.flow_from_directory(\n",
    "    train_data_dir,\n",
    "    target_size=(img_width, img_height),\n",
    "    batch_size=batch_size,\n",
    "    class_mode='binary')"
   ]
  },
  {
   "cell_type": "code",
   "execution_count": 33,
   "metadata": {},
   "outputs": [
    {
     "name": "stdout",
     "output_type": "stream",
     "text": [
      "Found 359 images belonging to 2 classes.\n"
     ]
    }
   ],
   "source": [
    "validation_generator = test_datagen.flow_from_directory(\n",
    "    validation_data_dir,\n",
    "    target_size=(img_width, img_height),\n",
    "    batch_size=batch_size,\n",
    "    class_mode='binary')"
   ]
  },
  {
   "cell_type": "code",
   "execution_count": 22,
   "metadata": {},
   "outputs": [
    {
     "name": "stdout",
     "output_type": "stream",
     "text": [
      "Epoch 1/50\n",
      "22/22 [==============================] - 3s 154ms/step - loss: 0.6911 - acc: 0.6790 - val_loss: 0.7349 - val_acc: 0.4234\n",
      "Epoch 2/50\n",
      "22/22 [==============================] - 3s 145ms/step - loss: 0.6042 - acc: 0.7205 - val_loss: 0.7333 - val_acc: 0.4234\n",
      "Epoch 3/50\n",
      "22/22 [==============================] - 3s 143ms/step - loss: 0.5978 - acc: 0.7228 - val_loss: 1.6729 - val_acc: 0.4234\n",
      "Epoch 4/50\n",
      "22/22 [==============================] - 3s 136ms/step - loss: 0.6143 - acc: 0.6972 - val_loss: 0.7658 - val_acc: 0.4234\n",
      "Epoch 5/50\n",
      "22/22 [==============================] - 3s 130ms/step - loss: 0.5609 - acc: 0.7330 - val_loss: 0.7063 - val_acc: 0.4206\n",
      "Epoch 6/50\n",
      "22/22 [==============================] - 3s 131ms/step - loss: 0.5222 - acc: 0.7468 - val_loss: 0.7933 - val_acc: 0.4262\n",
      "Epoch 7/50\n",
      "22/22 [==============================] - 3s 126ms/step - loss: 0.5342 - acc: 0.7512 - val_loss: 0.7206 - val_acc: 0.5209\n",
      "Epoch 8/50\n",
      "22/22 [==============================] - 3s 127ms/step - loss: 0.5655 - acc: 0.6695 - val_loss: 0.7396 - val_acc: 0.4540\n",
      "Epoch 9/50\n",
      "22/22 [==============================] - 3s 124ms/step - loss: 0.4737 - acc: 0.7577 - val_loss: 0.9216 - val_acc: 0.4429\n",
      "Epoch 10/50\n",
      "22/22 [==============================] - 3s 129ms/step - loss: 0.4782 - acc: 0.7386 - val_loss: 1.2869 - val_acc: 0.4290\n",
      "Epoch 11/50\n",
      "22/22 [==============================] - 3s 120ms/step - loss: 0.5131 - acc: 0.7453 - val_loss: 0.8125 - val_acc: 0.4708\n",
      "Epoch 12/50\n",
      "22/22 [==============================] - 3s 125ms/step - loss: 0.4780 - acc: 0.7690 - val_loss: 1.3510 - val_acc: 0.4457\n",
      "Epoch 13/50\n",
      "22/22 [==============================] - 3s 129ms/step - loss: 0.4764 - acc: 0.7505 - val_loss: 0.7632 - val_acc: 0.5543\n",
      "Epoch 14/50\n",
      "22/22 [==============================] - 3s 124ms/step - loss: 0.5001 - acc: 0.7797 - val_loss: 0.7900 - val_acc: 0.5320\n",
      "Epoch 15/50\n",
      "22/22 [==============================] - 3s 124ms/step - loss: 0.4507 - acc: 0.7598 - val_loss: 0.8773 - val_acc: 0.5209\n",
      "Epoch 16/50\n",
      "22/22 [==============================] - 3s 127ms/step - loss: 0.4298 - acc: 0.7898 - val_loss: 0.8818 - val_acc: 0.5487\n",
      "Epoch 17/50\n",
      "22/22 [==============================] - 3s 125ms/step - loss: 0.4766 - acc: 0.7519 - val_loss: 0.7770 - val_acc: 0.5961\n",
      "Epoch 18/50\n",
      "22/22 [==============================] - 3s 129ms/step - loss: 0.3707 - acc: 0.8324 - val_loss: 1.0686 - val_acc: 0.5487\n",
      "Epoch 19/50\n",
      "22/22 [==============================] - 3s 121ms/step - loss: 0.4160 - acc: 0.8378 - val_loss: 1.0620 - val_acc: 0.5710\n",
      "Epoch 20/50\n",
      "22/22 [==============================] - 3s 151ms/step - loss: 0.4058 - acc: 0.7841 - val_loss: 1.4797 - val_acc: 0.5209\n",
      "Epoch 21/50\n",
      "22/22 [==============================] - 3s 155ms/step - loss: 0.3900 - acc: 0.8237 - val_loss: 0.8169 - val_acc: 0.6379\n",
      "Epoch 22/50\n",
      "22/22 [==============================] - 3s 127ms/step - loss: 0.3273 - acc: 0.8635 - val_loss: 0.8439 - val_acc: 0.6852\n",
      "Epoch 23/50\n",
      "22/22 [==============================] - 3s 124ms/step - loss: 0.3500 - acc: 0.8479 - val_loss: 1.0907 - val_acc: 0.6128\n",
      "Epoch 24/50\n",
      "22/22 [==============================] - 3s 128ms/step - loss: 0.4550 - acc: 0.8188 - val_loss: 1.7476 - val_acc: 0.5153\n",
      "Epoch 25/50\n",
      "22/22 [==============================] - 3s 146ms/step - loss: 0.3819 - acc: 0.8309 - val_loss: 0.8175 - val_acc: 0.6992\n",
      "Epoch 26/50\n",
      "22/22 [==============================] - 3s 140ms/step - loss: 0.2837 - acc: 0.8834 - val_loss: 0.9314 - val_acc: 0.6685\n",
      "Epoch 27/50\n",
      "22/22 [==============================] - 3s 135ms/step - loss: 0.3309 - acc: 0.8699 - val_loss: 1.0258 - val_acc: 0.6490\n",
      "Epoch 28/50\n",
      "22/22 [==============================] - 3s 131ms/step - loss: 0.2968 - acc: 0.8678 - val_loss: 1.0495 - val_acc: 0.6045\n",
      "Epoch 29/50\n",
      "22/22 [==============================] - 3s 126ms/step - loss: 0.3415 - acc: 0.8607 - val_loss: 0.6676 - val_acc: 0.7382\n",
      "Epoch 30/50\n",
      "22/22 [==============================] - 3s 125ms/step - loss: 0.2986 - acc: 0.8898 - val_loss: 1.2568 - val_acc: 0.6128\n",
      "Epoch 31/50\n",
      "22/22 [==============================] - 3s 126ms/step - loss: 0.2907 - acc: 0.8863 - val_loss: 1.2433 - val_acc: 0.5404\n",
      "Epoch 32/50\n",
      "22/22 [==============================] - 3s 127ms/step - loss: 0.2632 - acc: 0.8807 - val_loss: 1.2496 - val_acc: 0.5822\n",
      "Epoch 33/50\n",
      "22/22 [==============================] - 3s 131ms/step - loss: 0.3334 - acc: 0.8436 - val_loss: 1.2342 - val_acc: 0.6267\n",
      "Epoch 34/50\n",
      "22/22 [==============================] - 3s 128ms/step - loss: 0.2868 - acc: 0.8813 - val_loss: 0.7081 - val_acc: 0.7382\n",
      "Epoch 35/50\n",
      "22/22 [==============================] - 3s 130ms/step - loss: 0.2313 - acc: 0.9162 - val_loss: 0.9872 - val_acc: 0.7187\n",
      "Epoch 36/50\n",
      "22/22 [==============================] - 3s 125ms/step - loss: 0.3226 - acc: 0.8919 - val_loss: 1.5514 - val_acc: 0.6128\n",
      "Epoch 37/50\n",
      "22/22 [==============================] - 3s 136ms/step - loss: 0.2426 - acc: 0.8835 - val_loss: 1.2113 - val_acc: 0.6741\n",
      "Epoch 38/50\n",
      "22/22 [==============================] - 3s 124ms/step - loss: 0.2668 - acc: 0.8855 - val_loss: 1.4163 - val_acc: 0.6462\n",
      "Epoch 39/50\n",
      "22/22 [==============================] - 3s 136ms/step - loss: 0.2206 - acc: 0.9062 - val_loss: 1.3110 - val_acc: 0.6462\n",
      "Epoch 40/50\n",
      "22/22 [==============================] - 3s 134ms/step - loss: 0.3128 - acc: 0.8685 - val_loss: 0.9928 - val_acc: 0.6852\n",
      "Epoch 41/50\n",
      "22/22 [==============================] - 3s 141ms/step - loss: 0.2362 - acc: 0.8955 - val_loss: 1.3635 - val_acc: 0.6490\n",
      "Epoch 42/50\n",
      "22/22 [==============================] - 3s 148ms/step - loss: 0.2044 - acc: 0.8976 - val_loss: 2.2314 - val_acc: 0.5655\n",
      "Epoch 43/50\n",
      "22/22 [==============================] - 4s 166ms/step - loss: 0.2472 - acc: 0.9083 - val_loss: 1.6659 - val_acc: 0.5989\n",
      "Epoch 44/50\n",
      "22/22 [==============================] - 4s 164ms/step - loss: 0.2509 - acc: 0.8892 - val_loss: 2.1424 - val_acc: 0.5599\n",
      "Epoch 45/50\n",
      "22/22 [==============================] - 3s 149ms/step - loss: 0.2483 - acc: 0.9005 - val_loss: 1.1052 - val_acc: 0.7047\n",
      "Epoch 46/50\n",
      "22/22 [==============================] - 3s 144ms/step - loss: 0.2282 - acc: 0.8927 - val_loss: 1.0628 - val_acc: 0.7131\n",
      "Epoch 47/50\n",
      "22/22 [==============================] - 3s 147ms/step - loss: 0.2240 - acc: 0.9147 - val_loss: 1.4814 - val_acc: 0.6825\n",
      "Epoch 48/50\n",
      "22/22 [==============================] - 4s 165ms/step - loss: 0.2248 - acc: 0.9126 - val_loss: 1.4320 - val_acc: 0.6797\n",
      "Epoch 49/50\n",
      "22/22 [==============================] - 3s 153ms/step - loss: 0.1815 - acc: 0.9325 - val_loss: 1.6143 - val_acc: 0.6267\n",
      "Epoch 50/50\n",
      "22/22 [==============================] - 3s 145ms/step - loss: 0.2420 - acc: 0.9034 - val_loss: 1.4990 - val_acc: 0.6852\n"
     ]
    }
   ],
   "source": [
    "model.fit_generator(\n",
    "    train_generator,\n",
    "    steps_per_epoch=nb_train_samples // batch_size,\n",
    "    epochs=epochs,\n",
    "    validation_data=validation_generator,\n",
    "    validation_steps=nb_validation_samples // batch_size\n",
    ")\n",
    "\n",
    "model.save_weights('model.h5')"
   ]
  },
  {
   "cell_type": "code",
   "execution_count": 10,
   "metadata": {},
   "outputs": [
    {
     "name": "stdout",
     "output_type": "stream",
     "text": [
      "_________________________________________________________________\n",
      "Layer (type)                 Output Shape              Param #   \n",
      "=================================================================\n",
      "conv2d_1 (Conv2D)            (None, 148, 148, 32)      896       \n",
      "_________________________________________________________________\n",
      "activation_1 (Activation)    (None, 148, 148, 32)      0         \n",
      "_________________________________________________________________\n",
      "max_pooling2d_1 (MaxPooling2 (None, 74, 74, 32)        0         \n",
      "_________________________________________________________________\n",
      "conv2d_2 (Conv2D)            (None, 72, 72, 32)        9248      \n",
      "_________________________________________________________________\n",
      "activation_2 (Activation)    (None, 72, 72, 32)        0         \n",
      "_________________________________________________________________\n",
      "max_pooling2d_2 (MaxPooling2 (None, 36, 36, 32)        0         \n",
      "_________________________________________________________________\n",
      "conv2d_3 (Conv2D)            (None, 34, 34, 64)        18496     \n",
      "_________________________________________________________________\n",
      "activation_3 (Activation)    (None, 34, 34, 64)        0         \n",
      "_________________________________________________________________\n",
      "max_pooling2d_3 (MaxPooling2 (None, 17, 17, 64)        0         \n",
      "_________________________________________________________________\n",
      "flatten_1 (Flatten)          (None, 18496)             0         \n",
      "_________________________________________________________________\n",
      "dense_1 (Dense)              (None, 64)                1183808   \n",
      "_________________________________________________________________\n",
      "activation_4 (Activation)    (None, 64)                0         \n",
      "_________________________________________________________________\n",
      "dropout_1 (Dropout)          (None, 64)                0         \n",
      "_________________________________________________________________\n",
      "dense_2 (Dense)              (None, 1)                 65        \n",
      "_________________________________________________________________\n",
      "activation_5 (Activation)    (None, 1)                 0         \n",
      "=================================================================\n",
      "Total params: 1,212,513\n",
      "Trainable params: 1,212,513\n",
      "Non-trainable params: 0\n",
      "_________________________________________________________________\n"
     ]
    }
   ],
   "source": [
    "model.summary()"
   ]
  },
  {
   "cell_type": "code",
   "execution_count": 23,
   "metadata": {},
   "outputs": [],
   "source": [
    "loaded_model = Sequential()\n",
    "\n",
    "loaded_model.add(Conv2D(32, (3, 3), input_shape=input_shape))\n",
    "loaded_model.add(Activation('relu'))\n",
    "loaded_model.add(MaxPooling2D(pool_size=(2, 2)))\n",
    "\n",
    "loaded_model.add(Conv2D(32, (3, 3)))\n",
    "loaded_model.add(Activation('relu'))\n",
    "loaded_model.add(MaxPooling2D(pool_size=(2, 2)))\n",
    "\n",
    "loaded_model.add(Conv2D(64, (3, 3)))\n",
    "loaded_model.add(Activation('relu'))\n",
    "loaded_model.add(MaxPooling2D(pool_size=(2, 2)))\n",
    "\n",
    "loaded_model.add(Flatten())\n",
    "loaded_model.add(Dense(64))\n",
    "loaded_model.add(Activation('relu'))\n",
    "loaded_model.add(Dropout(0.5))\n",
    "loaded_model.add(Dense(1))\n",
    "loaded_model.add(Activation('sigmoid'))\n",
    "\n",
    "loaded_model.compile(loss='binary_crossentropy',\n",
    "              optimizer='rmsprop',\n",
    "              metrics=['accuracy'])\n",
    "\n",
    "loaded_model.load_weights('model.h5')"
   ]
  },
  {
   "cell_type": "code",
   "execution_count": 32,
   "metadata": {},
   "outputs": [
    {
     "name": "stdout",
     "output_type": "stream",
     "text": [
      "23/23 [==============================] - 1s 42ms/step\n"
     ]
    }
   ],
   "source": [
    "prediction = loaded_model.predict_generator(validation_generator, verbose=1)"
   ]
  },
  {
   "cell_type": "code",
   "execution_count": 25,
   "metadata": {},
   "outputs": [
    {
     "data": {
      "text/plain": [
       "array([[ 67, 140],\n",
       "       [ 53,  99]], dtype=int64)"
      ]
     },
     "execution_count": 25,
     "metadata": {},
     "output_type": "execute_result"
    }
   ],
   "source": [
    "from sklearn.metrics import confusion_matrix\n",
    "import numpy as np\n",
    "\n",
    "y_true = np.array([0] * 207 + [1] * 152)\n",
    "y_pred = prediction > 0.5\n",
    "\n",
    "confusion_matrix(y_true, y_pred)"
   ]
  },
  {
   "cell_type": "code",
   "execution_count": 34,
   "metadata": {},
   "outputs": [
    {
     "data": {
      "text/plain": [
       "(359, 1)"
      ]
     },
     "execution_count": 34,
     "metadata": {},
     "output_type": "execute_result"
    }
   ],
   "source": [
    "prediction.shape"
   ]
  }
 ],
 "metadata": {
  "kernelspec": {
   "display_name": "Python 3",
   "language": "python",
   "name": "python3"
  },
  "language_info": {
   "codemirror_mode": {
    "name": "ipython",
    "version": 3
   },
   "file_extension": ".py",
   "mimetype": "text/x-python",
   "name": "python",
   "nbconvert_exporter": "python",
   "pygments_lexer": "ipython3",
   "version": "3.6.5"
  }
 },
 "nbformat": 4,
 "nbformat_minor": 2
}
