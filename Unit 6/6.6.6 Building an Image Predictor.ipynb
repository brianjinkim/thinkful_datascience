{
 "cells": [
  {
   "cell_type": "code",
   "execution_count": 1,
   "metadata": {},
   "outputs": [
    {
     "name": "stderr",
     "output_type": "stream",
     "text": [
      "Using TensorFlow backend.\n"
     ]
    }
   ],
   "source": [
    "from keras.preprocessing.image import ImageDataGenerator\n",
    "from keras.models import Sequential\n",
    "from keras.layers import Conv2D, MaxPooling2D\n",
    "from keras.layers import Activation, Dropout, Flatten, Dense\n",
    "from keras.applications.inception_v3 import InceptionV3, preprocess_input\n",
    "from keras import backend as K"
   ]
  },
  {
   "cell_type": "code",
   "execution_count": 2,
   "metadata": {},
   "outputs": [],
   "source": [
    "# allocates GPU memory based on runtime allocations. doesn't releases memory because of potential memory fragmentation\n",
    "# without this option, getting images will not work\n",
    "import tensorflow as tf\n",
    "config = tf.ConfigProto()\n",
    "config.gpu_options.allow_growth = True\n",
    "session = tf.Session(config=config)"
   ]
  },
  {
   "cell_type": "code",
   "execution_count": 21,
   "metadata": {},
   "outputs": [],
   "source": [
    "# dimensions of our images.\n",
    "img_width, img_height = 150, 150\n",
    "\n",
    "train_data_dir = 'data/train'\n",
    "validation_data_dir = 'data/validation'\n",
    "nb_train_samples = 2000\n",
    "nb_validation_samples = 800\n",
    "epochs = 50\n",
    "batch_size = 1\n",
    "\n",
    "if K.image_data_format() == 'channels_first':\n",
    "    input_shape = (3, img_width, img_height)\n",
    "else:\n",
    "    input_shape = (img_width, img_height, 3)"
   ]
  },
  {
   "cell_type": "code",
   "execution_count": 4,
   "metadata": {},
   "outputs": [],
   "source": [
    "model = Sequential()\n",
    "model.add(Conv2D(32, (3, 3), input_shape=input_shape))\n",
    "model.add(Activation('relu'))\n",
    "model.add(MaxPooling2D(pool_size=(2, 2)))\n",
    "\n",
    "model.add(Conv2D(32, (3, 3)))\n",
    "model.add(Activation('relu'))\n",
    "model.add(MaxPooling2D(pool_size=(2, 2)))\n",
    "\n",
    "model.add(Conv2D(64, (3, 3)))\n",
    "model.add(Activation('relu'))\n",
    "model.add(MaxPooling2D(pool_size=(2, 2)))\n",
    "\n",
    "model.add(Flatten())\n",
    "model.add(Dense(64))\n",
    "model.add(Activation('relu'))\n",
    "model.add(Dropout(0.5))\n",
    "model.add(Dense(1))\n",
    "model.add(Activation('sigmoid'))\n",
    "\n",
    "model.compile(loss='binary_crossentropy',\n",
    "              optimizer='rmsprop',\n",
    "              metrics=['accuracy'])"
   ]
  },
  {
   "cell_type": "code",
   "execution_count": 5,
   "metadata": {},
   "outputs": [],
   "source": [
    "# this is the augmentation configuration for training\n",
    "train_datagen = ImageDataGenerator(\n",
    "    preprocessing_function = preprocess_input,\n",
    "    rotation_range=30,\n",
    "    width_shift_range=0.2,\n",
    "    height_shift_range=0.2,\n",
    "    shear_range=0.2,\n",
    "    zoom_range=0.2,\n",
    "    horizontal_flip=True)"
   ]
  },
  {
   "cell_type": "code",
   "execution_count": 6,
   "metadata": {},
   "outputs": [],
   "source": [
    "# this is the augmentation configuration we will use for testing:\n",
    "test_datagen = ImageDataGenerator(\n",
    "    preprocessing_function = preprocess_input,\n",
    "    rotation_range=30,\n",
    "    width_shift_range=0.2,\n",
    "    height_shift_range=0.2,\n",
    "    shear_range=0.2,\n",
    "    zoom_range=0.2,\n",
    "    horizontal_flip=True)"
   ]
  },
  {
   "cell_type": "code",
   "execution_count": 7,
   "metadata": {},
   "outputs": [
    {
     "name": "stdout",
     "output_type": "stream",
     "text": [
      "Found 358 images belonging to 2 classes.\n"
     ]
    }
   ],
   "source": [
    "train_generator = train_datagen.flow_from_directory(\n",
    "    train_data_dir,\n",
    "    target_size=(img_width, img_height),\n",
    "    batch_size=batch_size)"
   ]
  },
  {
   "cell_type": "code",
   "execution_count": 22,
   "metadata": {},
   "outputs": [
    {
     "name": "stdout",
     "output_type": "stream",
     "text": [
      "Found 20 images belonging to 2 classes.\n"
     ]
    }
   ],
   "source": [
    "validation_generator = test_datagen.flow_from_directory(\n",
    "    validation_data_dir,\n",
    "    target_size=(img_width, img_height),\n",
    "    batch_size=batch_size,\n",
    "    class_mode='binary')"
   ]
  },
  {
   "cell_type": "code",
   "execution_count": 11,
   "metadata": {},
   "outputs": [
    {
     "name": "stdout",
     "output_type": "stream",
     "text": [
      "Epoch 1/50\n",
      "125/125 [==============================] - 18s 142ms/step - loss: 0.6392 - acc: 0.7077 - val_loss: 0.7085 - val_acc: 0.4500\n",
      "Epoch 2/50\n",
      "125/125 [==============================] - 16s 125ms/step - loss: 0.5420 - acc: 0.7337 - val_loss: 0.7096 - val_acc: 0.5000\n",
      "Epoch 3/50\n",
      "125/125 [==============================] - 16s 124ms/step - loss: 0.4570 - acc: 0.7866 - val_loss: 0.6795 - val_acc: 0.6500\n",
      "Epoch 4/50\n",
      "125/125 [==============================] - 16s 125ms/step - loss: 0.4047 - acc: 0.8190 - val_loss: 0.7042 - val_acc: 0.6000\n",
      "Epoch 5/50\n",
      "125/125 [==============================] - 16s 125ms/step - loss: 0.3668 - acc: 0.8342 - val_loss: 0.8932 - val_acc: 0.6000\n",
      "Epoch 6/50\n",
      "125/125 [==============================] - 16s 126ms/step - loss: 0.3128 - acc: 0.8616 - val_loss: 0.8483 - val_acc: 0.7000\n",
      "Epoch 7/50\n",
      "125/125 [==============================] - 16s 125ms/step - loss: 0.2836 - acc: 0.8768 - val_loss: 0.8060 - val_acc: 0.6000\n",
      "Epoch 8/50\n",
      "125/125 [==============================] - 16s 125ms/step - loss: 0.2396 - acc: 0.9012 - val_loss: 0.7732 - val_acc: 0.7500\n",
      "Epoch 9/50\n",
      "125/125 [==============================] - 15s 123ms/step - loss: 0.2066 - acc: 0.9130 - val_loss: 1.1628 - val_acc: 0.7500\n",
      "Epoch 10/50\n",
      "125/125 [==============================] - 16s 124ms/step - loss: 0.1708 - acc: 0.9315 - val_loss: 1.0539 - val_acc: 0.7000\n",
      "Epoch 11/50\n",
      "125/125 [==============================] - 16s 125ms/step - loss: 0.1528 - acc: 0.9402 - val_loss: 1.3632 - val_acc: 0.7000\n",
      "Epoch 12/50\n",
      "125/125 [==============================] - 15s 123ms/step - loss: 0.1398 - acc: 0.9457 - val_loss: 1.2457 - val_acc: 0.7000\n",
      "Epoch 13/50\n",
      "125/125 [==============================] - 15s 124ms/step - loss: 0.1624 - acc: 0.9373 - val_loss: 1.2155 - val_acc: 0.8000\n",
      "Epoch 14/50\n",
      "125/125 [==============================] - 16s 125ms/step - loss: 0.1146 - acc: 0.9547 - val_loss: 1.4368 - val_acc: 0.7500\n",
      "Epoch 15/50\n",
      "125/125 [==============================] - 16s 128ms/step - loss: 0.1232 - acc: 0.9607 - val_loss: 1.0840 - val_acc: 0.8000\n",
      "Epoch 16/50\n",
      "125/125 [==============================] - 17s 133ms/step - loss: 0.1044 - acc: 0.9630 - val_loss: 1.8173 - val_acc: 0.7500\n",
      "Epoch 17/50\n",
      "125/125 [==============================] - 16s 130ms/step - loss: 0.1283 - acc: 0.9562 - val_loss: 2.8900 - val_acc: 0.6000\n",
      "Epoch 18/50\n",
      "125/125 [==============================] - 15s 124ms/step - loss: 0.0848 - acc: 0.9720 - val_loss: 2.7109 - val_acc: 0.6500\n",
      "Epoch 19/50\n",
      "125/125 [==============================] - 16s 127ms/step - loss: 0.1215 - acc: 0.9570 - val_loss: 2.5735 - val_acc: 0.7000\n",
      "Epoch 20/50\n",
      "125/125 [==============================] - 16s 125ms/step - loss: 0.1081 - acc: 0.9657 - val_loss: 2.7536 - val_acc: 0.7000\n",
      "Epoch 21/50\n",
      "125/125 [==============================] - 16s 127ms/step - loss: 0.1306 - acc: 0.9608 - val_loss: 7.1397 - val_acc: 0.5500\n",
      "Epoch 22/50\n",
      "125/125 [==============================] - 16s 124ms/step - loss: 0.1567 - acc: 0.9672 - val_loss: 2.3544 - val_acc: 0.7500\n",
      "Epoch 23/50\n",
      "125/125 [==============================] - 16s 124ms/step - loss: 0.1013 - acc: 0.9657 - val_loss: 2.1545 - val_acc: 0.6500\n",
      "Epoch 24/50\n",
      "125/125 [==============================] - 16s 126ms/step - loss: 0.1260 - acc: 0.9650 - val_loss: 3.2442 - val_acc: 0.6000\n",
      "Epoch 25/50\n",
      "125/125 [==============================] - 16s 125ms/step - loss: 0.1200 - acc: 0.9648 - val_loss: 2.7249 - val_acc: 0.6000\n",
      "Epoch 26/50\n",
      "125/125 [==============================] - 16s 125ms/step - loss: 0.1172 - acc: 0.9652 - val_loss: 2.8456 - val_acc: 0.6500\n",
      "Epoch 27/50\n",
      "125/125 [==============================] - 16s 125ms/step - loss: 0.1062 - acc: 0.9585 - val_loss: 3.2309 - val_acc: 0.7000\n",
      "Epoch 28/50\n",
      "125/125 [==============================] - 16s 126ms/step - loss: 0.1467 - acc: 0.9578 - val_loss: 2.9324 - val_acc: 0.7500\n",
      "Epoch 29/50\n",
      "125/125 [==============================] - 15s 124ms/step - loss: 0.1443 - acc: 0.9685 - val_loss: 2.5263 - val_acc: 0.7500\n",
      "Epoch 30/50\n",
      "125/125 [==============================] - 16s 125ms/step - loss: 0.1208 - acc: 0.9652 - val_loss: 2.1674 - val_acc: 0.7500\n",
      "Epoch 31/50\n",
      "125/125 [==============================] - 16s 125ms/step - loss: 0.1390 - acc: 0.9647 - val_loss: 3.0521 - val_acc: 0.7000\n",
      "Epoch 32/50\n",
      "125/125 [==============================] - 16s 125ms/step - loss: 0.1121 - acc: 0.9602 - val_loss: 3.5024 - val_acc: 0.6500\n",
      "Epoch 33/50\n",
      "125/125 [==============================] - 16s 125ms/step - loss: 0.1301 - acc: 0.9592 - val_loss: 2.3754 - val_acc: 0.6000\n",
      "Epoch 34/50\n",
      "125/125 [==============================] - 16s 125ms/step - loss: 0.1221 - acc: 0.9665 - val_loss: 2.4328 - val_acc: 0.6500\n",
      "Epoch 35/50\n",
      "125/125 [==============================] - 16s 124ms/step - loss: 0.1374 - acc: 0.9692 - val_loss: 2.8643 - val_acc: 0.6500\n",
      "Epoch 36/50\n",
      "125/125 [==============================] - 16s 125ms/step - loss: 0.1203 - acc: 0.9682 - val_loss: 2.8936 - val_acc: 0.7000\n",
      "Epoch 37/50\n",
      "125/125 [==============================] - 15s 123ms/step - loss: 0.1411 - acc: 0.9672 - val_loss: 3.0528 - val_acc: 0.7500\n",
      "Epoch 38/50\n",
      "125/125 [==============================] - 15s 123ms/step - loss: 0.1374 - acc: 0.9590 - val_loss: 3.1856 - val_acc: 0.7500\n",
      "Epoch 39/50\n",
      "125/125 [==============================] - 16s 125ms/step - loss: 0.1509 - acc: 0.9700 - val_loss: 2.0628 - val_acc: 0.7500\n",
      "Epoch 40/50\n",
      "125/125 [==============================] - 16s 125ms/step - loss: 0.1594 - acc: 0.9543 - val_loss: 1.3937 - val_acc: 0.6500\n",
      "Epoch 41/50\n",
      "125/125 [==============================] - 15s 123ms/step - loss: 0.1462 - acc: 0.9593 - val_loss: 2.0225 - val_acc: 0.7500\n",
      "Epoch 42/50\n",
      "125/125 [==============================] - 16s 125ms/step - loss: 0.1299 - acc: 0.9602 - val_loss: 3.0795 - val_acc: 0.7500\n",
      "Epoch 43/50\n",
      "125/125 [==============================] - 15s 123ms/step - loss: 0.1965 - acc: 0.9607 - val_loss: 1.1434 - val_acc: 0.7000\n",
      "Epoch 44/50\n",
      "125/125 [==============================] - 16s 124ms/step - loss: 0.1804 - acc: 0.9573 - val_loss: 2.6661 - val_acc: 0.7000\n",
      "Epoch 45/50\n",
      "125/125 [==============================] - 16s 125ms/step - loss: 0.1524 - acc: 0.9625 - val_loss: 5.7091 - val_acc: 0.5500\n",
      "Epoch 46/50\n",
      "125/125 [==============================] - 15s 123ms/step - loss: 0.1376 - acc: 0.9722 - val_loss: 2.6851 - val_acc: 0.7000\n",
      "Epoch 47/50\n",
      "125/125 [==============================] - 15s 124ms/step - loss: 0.3032 - acc: 0.9492 - val_loss: 2.7922 - val_acc: 0.6500\n",
      "Epoch 48/50\n",
      "125/125 [==============================] - 16s 124ms/step - loss: 0.1807 - acc: 0.9562 - val_loss: 3.2832 - val_acc: 0.7000\n",
      "Epoch 49/50\n",
      "125/125 [==============================] - 16s 124ms/step - loss: 0.1435 - acc: 0.9598 - val_loss: 3.8772 - val_acc: 0.6500\n",
      "Epoch 50/50\n",
      "125/125 [==============================] - 16s 124ms/step - loss: 0.1299 - acc: 0.9615 - val_loss: 2.7275 - val_acc: 0.7500\n"
     ]
    }
   ],
   "source": [
    "model.fit_generator(\n",
    "    train_generator,\n",
    "#     steps_per_epoch=nb_train_samples // batch_size,\n",
    "    epochs=epochs,\n",
    "    validation_data=validation_generator,\n",
    "    validation_steps=nb_validation_samples // batch_size)\n",
    "\n",
    "model.save_weights('first_try.h5')"
   ]
  },
  {
   "cell_type": "code",
   "execution_count": 23,
   "metadata": {},
   "outputs": [],
   "source": [
    "loaded_model = Sequential()\n",
    "\n",
    "loaded_model.add(Conv2D(32, (3, 3), input_shape=input_shape))\n",
    "loaded_model.add(Activation('relu'))\n",
    "loaded_model.add(MaxPooling2D(pool_size=(2, 2)))\n",
    "\n",
    "loaded_model.add(Conv2D(32, (3, 3)))\n",
    "loaded_model.add(Activation('relu'))\n",
    "loaded_model.add(MaxPooling2D(pool_size=(2, 2)))\n",
    "\n",
    "loaded_model.add(Conv2D(64, (3, 3)))\n",
    "loaded_model.add(Activation('relu'))\n",
    "loaded_model.add(MaxPooling2D(pool_size=(2, 2)))\n",
    "\n",
    "loaded_model.add(Flatten())\n",
    "loaded_model.add(Dense(64))\n",
    "loaded_model.add(Activation('relu'))\n",
    "loaded_model.add(Dropout(0.5))\n",
    "loaded_model.add(Dense(1))\n",
    "loaded_model.add(Activation('sigmoid'))\n",
    "\n",
    "loaded_model.compile(loss='binary_crossentropy',\n",
    "              optimizer='rmsprop',\n",
    "              metrics=['accuracy'])\n",
    "\n",
    "loaded_model.load_weights('first_try.h5')"
   ]
  },
  {
   "cell_type": "code",
   "execution_count": 32,
   "metadata": {},
   "outputs": [
    {
     "name": "stdout",
     "output_type": "stream",
     "text": [
      "20/20 [==============================] - 0s 9ms/step\n"
     ]
    }
   ],
   "source": [
    "prediction = loaded_model.predict_generator(validation_generator, verbose=1)"
   ]
  },
  {
   "cell_type": "code",
   "execution_count": 25,
   "metadata": {},
   "outputs": [
    {
     "data": {
      "text/plain": [
       "array([[8.8824493e-01],\n",
       "       [1.0000000e+00],\n",
       "       [9.0835071e-01],\n",
       "       [3.6239746e-01],\n",
       "       [1.0088424e-02],\n",
       "       [1.9106631e-01],\n",
       "       [7.4745190e-01],\n",
       "       [9.7184932e-01],\n",
       "       [1.0000000e+00],\n",
       "       [8.5396147e-01],\n",
       "       [3.5945636e-01],\n",
       "       [6.1313415e-01],\n",
       "       [1.0000000e+00],\n",
       "       [1.0000000e+00],\n",
       "       [5.6815398e-01],\n",
       "       [9.9895072e-01],\n",
       "       [8.7238318e-01],\n",
       "       [1.0182740e-01],\n",
       "       [9.9976343e-01],\n",
       "       [3.3065625e-08]], dtype=float32)"
      ]
     },
     "execution_count": 25,
     "metadata": {},
     "output_type": "execute_result"
    }
   ],
   "source": [
    "prediction"
   ]
  },
  {
   "cell_type": "code",
   "execution_count": 26,
   "metadata": {},
   "outputs": [
    {
     "name": "stdout",
     "output_type": "stream",
     "text": [
      "[0 0 0 0 0 0 0 0 0 1 1 1 1 1 1 1 1 1 1 1]\n",
      "[[False]\n",
      " [ True]\n",
      " [ True]\n",
      " [ True]\n",
      " [ True]\n",
      " [ True]\n",
      " [ True]\n",
      " [False]\n",
      " [ True]\n",
      " [ True]\n",
      " [ True]\n",
      " [ True]\n",
      " [ True]\n",
      " [ True]\n",
      " [ True]\n",
      " [ True]\n",
      " [False]\n",
      " [ True]\n",
      " [ True]\n",
      " [ True]]\n"
     ]
    }
   ],
   "source": [
    "print(y_true)\n",
    "print(y_pred)"
   ]
  },
  {
   "cell_type": "code",
   "execution_count": 27,
   "metadata": {},
   "outputs": [
    {
     "data": {
      "text/plain": [
       "array([[3, 6],\n",
       "       [3, 8]], dtype=int64)"
      ]
     },
     "execution_count": 27,
     "metadata": {},
     "output_type": "execute_result"
    }
   ],
   "source": [
    "from sklearn.metrics import confusion_matrix\n",
    "import numpy as np\n",
    "\n",
    "y_true = np.array([0] * 9 + [1] * 11)\n",
    "y_pred = prediction > 0.5\n",
    "\n",
    "confusion_matrix(y_true, y_pred)"
   ]
  },
  {
   "cell_type": "code",
   "execution_count": 26,
   "metadata": {},
   "outputs": [
    {
     "data": {
      "text/plain": [
       "(20, 1)"
      ]
     },
     "execution_count": 26,
     "metadata": {},
     "output_type": "execute_result"
    }
   ],
   "source": [
    "prediction.shape"
   ]
  },
  {
   "cell_type": "code",
   "execution_count": 28,
   "metadata": {},
   "outputs": [
    {
     "data": {
      "text/plain": [
       "array([[ True],\n",
       "       [ True],\n",
       "       [ True],\n",
       "       [False],\n",
       "       [False],\n",
       "       [False],\n",
       "       [ True],\n",
       "       [ True],\n",
       "       [ True],\n",
       "       [ True],\n",
       "       [False],\n",
       "       [ True],\n",
       "       [ True],\n",
       "       [ True],\n",
       "       [ True],\n",
       "       [ True],\n",
       "       [ True],\n",
       "       [False],\n",
       "       [ True],\n",
       "       [False]])"
      ]
     },
     "execution_count": 28,
     "metadata": {},
     "output_type": "execute_result"
    }
   ],
   "source": [
    "y_pred"
   ]
  }
 ],
 "metadata": {
  "kernelspec": {
   "display_name": "Python 3",
   "language": "python",
   "name": "python3"
  },
  "language_info": {
   "codemirror_mode": {
    "name": "ipython",
    "version": 3
   },
   "file_extension": ".py",
   "mimetype": "text/x-python",
   "name": "python",
   "nbconvert_exporter": "python",
   "pygments_lexer": "ipython3",
   "version": "3.6.5"
  }
 },
 "nbformat": 4,
 "nbformat_minor": 2
}
