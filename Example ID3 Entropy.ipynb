{
 "cells": [
  {
   "cell_type": "code",
   "execution_count": 1,
   "metadata": {},
   "outputs": [],
   "source": [
    "from math import log2"
   ]
  },
  {
   "cell_type": "markdown",
   "metadata": {},
   "source": [
    "Let's say we have 20 students, and we're trying to classify them as male and female. The only attribute we have is whether their height is tall, medium, or short. Of the 20 students, 12 are boys with and 8 are girls. Of the 12 boys, 4 are tall, 6 are medium and 2 are short. Of the 8 girls, 1 is tall, 2 are medium, and 5 are short."
   ]
  },
  {
   "cell_type": "code",
   "execution_count": 9,
   "metadata": {},
   "outputs": [
    {
     "name": "stdout",
     "output_type": "stream",
     "text": [
      "tall:  0.9280757477080679\n",
      "medium:  0.9245112497836531\n"
     ]
    }
   ],
   "source": [
    "#weighted tall\n",
    "tall = 4/5 * log2(5/4) + 1/5 * log2(5/1)\n",
    "not_tall = 8/15 * log2(15/8) + 7/15 * log2(15/7)\n",
    "weighted_tall = 5/20 * tall + 15/20 * not_tall\n",
    "print('tall: ',weighted_tall)\n",
    "\n",
    "medium = 6/8 * log2(8/6) + 2/8 * log2(8/2)\n",
    "not_medium = 6/12 * log2(12/6) + 6/12 * log2(12/6)\n",
    "weighted_medium = 8/20 * medium + 12/20 * not_medium\n",
    "print('medium: ', weighted_medium)"
   ]
  }
 ],
 "metadata": {
  "kernelspec": {
   "display_name": "Python 3",
   "language": "python",
   "name": "python3"
  },
  "language_info": {
   "codemirror_mode": {
    "name": "ipython",
    "version": 3
   },
   "file_extension": ".py",
   "mimetype": "text/x-python",
   "name": "python",
   "nbconvert_exporter": "python",
   "pygments_lexer": "ipython3",
   "version": "3.6.3"
  }
 },
 "nbformat": 4,
 "nbformat_minor": 2
}
