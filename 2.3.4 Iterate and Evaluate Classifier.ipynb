{
 "cells": [
  {
   "cell_type": "markdown",
   "metadata": {},
   "source": [
    "## Build your own Naive Bayes classifier. Perform a sentiment analysis, classifying whether feedback left on a website is either positive or negative. "
   ]
  },
  {
   "cell_type": "code",
   "execution_count": 1,
   "metadata": {},
   "outputs": [],
   "source": [
    "%matplotlib inline\n",
    "import pandas as pd\n",
    "import numpy as np\n",
    "import matplotlib.pyplot as plt\n",
    "import scipy\n",
    "import sklearn\n",
    "import seaborn as sns"
   ]
  },
  {
   "cell_type": "code",
   "execution_count": 2,
   "metadata": {},
   "outputs": [
    {
     "data": {
      "text/html": [
       "<div>\n",
       "<style scoped>\n",
       "    .dataframe tbody tr th:only-of-type {\n",
       "        vertical-align: middle;\n",
       "    }\n",
       "\n",
       "    .dataframe tbody tr th {\n",
       "        vertical-align: top;\n",
       "    }\n",
       "\n",
       "    .dataframe thead th {\n",
       "        text-align: right;\n",
       "    }\n",
       "</style>\n",
       "<table border=\"1\" class=\"dataframe\">\n",
       "  <thead>\n",
       "    <tr style=\"text-align: right;\">\n",
       "      <th></th>\n",
       "      <th>message</th>\n",
       "      <th>feedback</th>\n",
       "    </tr>\n",
       "  </thead>\n",
       "  <tbody>\n",
       "    <tr>\n",
       "      <th>0</th>\n",
       "      <td>Wow... Loved this place.</td>\n",
       "      <td>1</td>\n",
       "    </tr>\n",
       "    <tr>\n",
       "      <th>1</th>\n",
       "      <td>Crust is not good.</td>\n",
       "      <td>0</td>\n",
       "    </tr>\n",
       "    <tr>\n",
       "      <th>2</th>\n",
       "      <td>Not tasty and the texture was just nasty.</td>\n",
       "      <td>0</td>\n",
       "    </tr>\n",
       "    <tr>\n",
       "      <th>3</th>\n",
       "      <td>Stopped by during the late May bank holiday of...</td>\n",
       "      <td>1</td>\n",
       "    </tr>\n",
       "    <tr>\n",
       "      <th>4</th>\n",
       "      <td>The selection on the menu was great and so wer...</td>\n",
       "      <td>1</td>\n",
       "    </tr>\n",
       "  </tbody>\n",
       "</table>\n",
       "</div>"
      ],
      "text/plain": [
       "                                             message  feedback\n",
       "0                           Wow... Loved this place.         1\n",
       "1                                 Crust is not good.         0\n",
       "2          Not tasty and the texture was just nasty.         0\n",
       "3  Stopped by during the late May bank holiday of...         1\n",
       "4  The selection on the menu was great and so wer...         1"
      ]
     },
     "execution_count": 2,
     "metadata": {},
     "output_type": "execute_result"
    }
   ],
   "source": [
    "datapath = '../Datasets/yelp_labelled.txt'\n",
    "feedback_raw = pd.read_csv(datapath, delimiter='\\t', header=None)\n",
    "feedback_raw.columns = ['message', 'feedback']\n",
    "\n",
    "feature = pd.DataFrame()\n",
    "sns.set_style('white')\n",
    "feedback_raw.head(5)"
   ]
  },
  {
   "cell_type": "code",
   "execution_count": 3,
   "metadata": {},
   "outputs": [],
   "source": [
    "# does length of message determine feedback?\n",
    "feature['message_length'] = feedback_raw['message'].str.len()\n",
    "feature['feedback'] = feedback_raw['feedback']"
   ]
  },
  {
   "cell_type": "code",
   "execution_count": 4,
   "metadata": {},
   "outputs": [],
   "source": [
    "# add space to msg before and after stmt to get first and last words \n",
    "feature['msg'] = ' ' + feedback_raw.message.str.replace('[^A-Za-z0-9\\']+', ' ') + ' '"
   ]
  },
  {
   "cell_type": "code",
   "execution_count": 5,
   "metadata": {},
   "outputs": [
    {
     "name": "stdout",
     "output_type": "stream",
     "text": [
      "['i', 'was', 'to', 'a', 'not', 'it', 'of', 'for', 'food', 'we', 'be', 'that', 'but', 'at', 'my', 'back', 'like', 'there', 'go', 'no', 'will', 'never', \"don't\", 'would', 'if', 'ever', 'up', 'again', 'from', 'your', 'only', 'one', 'much', 'did', 'got', 'out', \"won't\", 'what', 'worst', 'been', 'disappointed', 'think', 'me', 'being', \"i've\", 'going', 'more', 'eat', 'came', 'which', \"i'm\", 'us', 'or', 'when', 'better', 'too', 'get', 'wait', 'do', 'way', 'about', 'flavor', 'other', 'after', 'because', 'how', 'times', 'them', \"didn't\", 'than', 'over', 'another', 'ordered', 'before', 'salad', 'cold', 'then', 'burger', 'know', 'coming', 'can', 'quality', 'give', 'feel', 'people', 'any', 'enough', '2', 'eating', 'impressed', 'soon', 'down', 'sushi', 'meat', 'getting', 'bit', 'she', 'off', 'sure', 'few', 'said', 'meal', 'take', 'felt', 'tasted', 'many', 'nothing', 'lunch', 'next', 'around', '1', 'waiter', 'who', 'hot', \"can't\", 'table', 'dishes', 'done', 'hour', 'two', 'fries', 'shrimp', 'servers', 'return', 'chips', 'extremely', 'enjoy', 'old', 'kept', 'bring', 'customer', 'talk', 'am', 'warm', 'fried', '3', \"i'll\", 'found', 'served', 'lot', 'see', 'vegetables', 'someone', 'rice', 'real', 'gave', 'home', 'these', 'least', 'outside', '4', 'running', '40', 'possible', 'piece', 'husband', '20', 'leave', 'heart', 'soup', 'needs', 'damn', 'pay', 'expect', 'things', 'fish', 'establishment', 'checked', 'immediately', 'wife', \"couldn't\", 'lacking', 'door', 'gone', 'review', 'room', 'ate', 'treated', 'walked', 'meals', 'point', 'pulled', \"isn't\", 'arrived', 'empty', 'believe', 'reviews', 'big', 'find', 'course', 'tip', 'texture', 'bathroom', 'dog', 'brought', 'honest', \"friend's\", 'received', 'stay', 'expected', 'bill', 'chewy', 'half', 'deserves', 'green', 'beans', 'list', 'lobster', 'yet']\n"
     ]
    }
   ],
   "source": [
    "#find words that show up more frequently in negative feedbacks to build negative dictionary\n",
    "dictionary = pd.DataFrame()\n",
    "dictionary['negative'] = pd.Series(' '.join(feature[feature['feedback']==0].msg).lower().split()).value_counts()\n",
    "dictionary['positive'] = pd.Series(' '.join(feature[feature['feedback']==1].msg).lower().split()).value_counts()\n",
    "filtered_dictionary = np.where(dictionary['negative'] > dictionary['positive'], dictionary['negative'].index, None)\n",
    "print(list(filter(lambda x: x != None, filtered_dictionary)))"
   ]
  },
  {
   "cell_type": "code",
   "execution_count": 6,
   "metadata": {},
   "outputs": [],
   "source": [
    "#remove neutral/positive words from negative dictionary\n",
    "neutral = ['was', 'for', 'that', 'there', 'your', 'from', 'what', 'like', \"i've\", \"i'm\", 'can', 'wife', 'dog', 'reviews', 'beans', 'green', \"friend's\", 'lobster', 'rice', 'fried']"
   ]
  },
  {
   "cell_type": "code",
   "execution_count": 7,
   "metadata": {},
   "outputs": [
    {
     "name": "stdout",
     "output_type": "stream",
     "text": [
      "['not', 'food', 'but', 'back', 'will', 'never', \"don't\", 'would', 'ever', 'again', 'only', 'one', 'much', 'did', 'got', 'out', \"won't\", 'worst', 'been', 'disappointed', 'think', 'being', 'going', 'more', 'eat', 'came', 'which', 'when', 'better', 'too', 'get', 'wait', 'way', 'about', 'flavor', 'other', 'after', 'because', 'how', 'times', 'them', \"didn't\", 'than', 'over', 'another', 'ordered', 'before', 'salad', 'cold', 'then', 'burger', 'know', 'coming', 'quality', 'give', 'feel', 'people', 'any', 'enough', 'eating', 'impressed', 'soon', 'down', 'sushi', 'meat', 'getting', 'bit', 'she', 'off', 'sure', 'few', 'said', 'meal', 'take', 'felt', 'tasted', 'many', 'nothing', 'lunch', 'next', 'around', 'waiter', 'who', 'hot', \"can't\", 'table', 'dishes', 'done', 'hour', 'two', 'fries', 'shrimp', 'servers', 'return', 'chips', 'extremely', 'enjoy', 'old', 'kept', 'bring', 'customer', 'talk', 'warm', \"i'll\", 'found', 'served', 'lot', 'see', 'vegetables', 'someone', 'real', 'gave', 'home', 'these', 'least', 'outside', 'running', 'possible', 'piece', 'husband', 'leave', 'heart', 'soup', 'needs', 'damn', 'pay', 'expect', 'things', 'fish', 'establishment', 'checked', 'immediately', \"couldn't\", 'lacking', 'door', 'gone', 'review', 'room', 'ate', 'treated', 'walked', 'meals', 'point', 'pulled', \"isn't\", 'arrived', 'empty', 'believe', 'big', 'find', 'course', 'tip', 'texture', 'bathroom', 'brought', 'honest', 'received', 'stay', 'expected', 'bill', 'chewy', 'half', 'deserves', 'list', 'yet']\n"
     ]
    }
   ],
   "source": [
    "#create negative dictionary excluding 2 letter words and neutral list\n",
    "negative_dictionary = []\n",
    "for word in filtered_dictionary:\n",
    "    if (word != None):\n",
    "        if ((len(word) > 2) & (word not in neutral)):\n",
    "            negative_dictionary.append(word)\n",
    "print(negative_dictionary)"
   ]
  },
  {
   "cell_type": "code",
   "execution_count": 8,
   "metadata": {},
   "outputs": [
    {
     "data": {
      "text/html": [
       "<div>\n",
       "<style scoped>\n",
       "    .dataframe tbody tr th:only-of-type {\n",
       "        vertical-align: middle;\n",
       "    }\n",
       "\n",
       "    .dataframe tbody tr th {\n",
       "        vertical-align: top;\n",
       "    }\n",
       "\n",
       "    .dataframe thead th {\n",
       "        text-align: right;\n",
       "    }\n",
       "</style>\n",
       "<table border=\"1\" class=\"dataframe\">\n",
       "  <thead>\n",
       "    <tr style=\"text-align: right;\">\n",
       "      <th></th>\n",
       "      <th>message_length</th>\n",
       "      <th>feedback</th>\n",
       "      <th>msg</th>\n",
       "      <th>not</th>\n",
       "      <th>food</th>\n",
       "      <th>but</th>\n",
       "      <th>back</th>\n",
       "      <th>will</th>\n",
       "      <th>never</th>\n",
       "      <th>don't</th>\n",
       "      <th>...</th>\n",
       "      <th>honest</th>\n",
       "      <th>received</th>\n",
       "      <th>stay</th>\n",
       "      <th>expected</th>\n",
       "      <th>bill</th>\n",
       "      <th>chewy</th>\n",
       "      <th>half</th>\n",
       "      <th>deserves</th>\n",
       "      <th>list</th>\n",
       "      <th>yet</th>\n",
       "    </tr>\n",
       "  </thead>\n",
       "  <tbody>\n",
       "    <tr>\n",
       "      <th>0</th>\n",
       "      <td>24</td>\n",
       "      <td>1</td>\n",
       "      <td>Wow Loved this place</td>\n",
       "      <td>False</td>\n",
       "      <td>False</td>\n",
       "      <td>False</td>\n",
       "      <td>False</td>\n",
       "      <td>False</td>\n",
       "      <td>False</td>\n",
       "      <td>False</td>\n",
       "      <td>...</td>\n",
       "      <td>False</td>\n",
       "      <td>False</td>\n",
       "      <td>False</td>\n",
       "      <td>False</td>\n",
       "      <td>False</td>\n",
       "      <td>False</td>\n",
       "      <td>False</td>\n",
       "      <td>False</td>\n",
       "      <td>False</td>\n",
       "      <td>False</td>\n",
       "    </tr>\n",
       "    <tr>\n",
       "      <th>1</th>\n",
       "      <td>18</td>\n",
       "      <td>0</td>\n",
       "      <td>Crust is not good</td>\n",
       "      <td>True</td>\n",
       "      <td>False</td>\n",
       "      <td>False</td>\n",
       "      <td>False</td>\n",
       "      <td>False</td>\n",
       "      <td>False</td>\n",
       "      <td>False</td>\n",
       "      <td>...</td>\n",
       "      <td>False</td>\n",
       "      <td>False</td>\n",
       "      <td>False</td>\n",
       "      <td>False</td>\n",
       "      <td>False</td>\n",
       "      <td>False</td>\n",
       "      <td>False</td>\n",
       "      <td>False</td>\n",
       "      <td>False</td>\n",
       "      <td>False</td>\n",
       "    </tr>\n",
       "    <tr>\n",
       "      <th>2</th>\n",
       "      <td>41</td>\n",
       "      <td>0</td>\n",
       "      <td>Not tasty and the texture was just nasty</td>\n",
       "      <td>True</td>\n",
       "      <td>False</td>\n",
       "      <td>False</td>\n",
       "      <td>False</td>\n",
       "      <td>False</td>\n",
       "      <td>False</td>\n",
       "      <td>False</td>\n",
       "      <td>...</td>\n",
       "      <td>False</td>\n",
       "      <td>False</td>\n",
       "      <td>False</td>\n",
       "      <td>False</td>\n",
       "      <td>False</td>\n",
       "      <td>False</td>\n",
       "      <td>False</td>\n",
       "      <td>False</td>\n",
       "      <td>False</td>\n",
       "      <td>False</td>\n",
       "    </tr>\n",
       "    <tr>\n",
       "      <th>3</th>\n",
       "      <td>87</td>\n",
       "      <td>1</td>\n",
       "      <td>Stopped by during the late May bank holiday o...</td>\n",
       "      <td>False</td>\n",
       "      <td>False</td>\n",
       "      <td>False</td>\n",
       "      <td>False</td>\n",
       "      <td>False</td>\n",
       "      <td>False</td>\n",
       "      <td>False</td>\n",
       "      <td>...</td>\n",
       "      <td>False</td>\n",
       "      <td>False</td>\n",
       "      <td>False</td>\n",
       "      <td>False</td>\n",
       "      <td>False</td>\n",
       "      <td>False</td>\n",
       "      <td>False</td>\n",
       "      <td>False</td>\n",
       "      <td>False</td>\n",
       "      <td>False</td>\n",
       "    </tr>\n",
       "    <tr>\n",
       "      <th>4</th>\n",
       "      <td>59</td>\n",
       "      <td>1</td>\n",
       "      <td>The selection on the menu was great and so we...</td>\n",
       "      <td>False</td>\n",
       "      <td>False</td>\n",
       "      <td>False</td>\n",
       "      <td>False</td>\n",
       "      <td>False</td>\n",
       "      <td>False</td>\n",
       "      <td>False</td>\n",
       "      <td>...</td>\n",
       "      <td>False</td>\n",
       "      <td>False</td>\n",
       "      <td>False</td>\n",
       "      <td>False</td>\n",
       "      <td>False</td>\n",
       "      <td>False</td>\n",
       "      <td>False</td>\n",
       "      <td>False</td>\n",
       "      <td>False</td>\n",
       "      <td>False</td>\n",
       "    </tr>\n",
       "  </tbody>\n",
       "</table>\n",
       "<p>5 rows × 168 columns</p>\n",
       "</div>"
      ],
      "text/plain": [
       "   message_length  feedback  \\\n",
       "0              24         1   \n",
       "1              18         0   \n",
       "2              41         0   \n",
       "3              87         1   \n",
       "4              59         1   \n",
       "\n",
       "                                                 msg    not   food    but  \\\n",
       "0                             Wow Loved this place    False  False  False   \n",
       "1                                Crust is not good     True  False  False   \n",
       "2         Not tasty and the texture was just nasty     True  False  False   \n",
       "3   Stopped by during the late May bank holiday o...  False  False  False   \n",
       "4   The selection on the menu was great and so we...  False  False  False   \n",
       "\n",
       "    back   will  never  don't  ...    honest  received   stay  expected  \\\n",
       "0  False  False  False  False  ...     False     False  False     False   \n",
       "1  False  False  False  False  ...     False     False  False     False   \n",
       "2  False  False  False  False  ...     False     False  False     False   \n",
       "3  False  False  False  False  ...     False     False  False     False   \n",
       "4  False  False  False  False  ...     False     False  False     False   \n",
       "\n",
       "    bill  chewy   half  deserves   list    yet  \n",
       "0  False  False  False     False  False  False  \n",
       "1  False  False  False     False  False  False  \n",
       "2  False  False  False     False  False  False  \n",
       "3  False  False  False     False  False  False  \n",
       "4  False  False  False     False  False  False  \n",
       "\n",
       "[5 rows x 168 columns]"
      ]
     },
     "execution_count": 8,
     "metadata": {},
     "output_type": "execute_result"
    }
   ],
   "source": [
    "# keyword indicators of negative feedback\n",
    "for key in negative_dictionary:\n",
    "    # adding spaces around key to get word and not pattern matching.\n",
    "    feature[str(key)] = feature.msg.str.contains(\n",
    "        ' ' + str(key) + ' ', case=False\n",
    "    )\n",
    "feature.head(5)"
   ]
  },
  {
   "cell_type": "code",
   "execution_count": 9,
   "metadata": {},
   "outputs": [
    {
     "data": {
      "image/png": "[encoded data removed]",
      "text/plain": [
       "<matplotlib.figure.Figure at 0xe9c5bf0>"
      ]
     },
     "metadata": {},
     "output_type": "display_data"
    }
   ],
   "source": [
    "sns.set_style('white')\n",
    "sns.heatmap(feature.corr())\n",
    "plt.show()"
   ]
  },
  {
   "cell_type": "code",
   "execution_count": 10,
   "metadata": {},
   "outputs": [
    {
     "name": "stdout",
     "output_type": "stream",
     "text": [
      "number of mislabeled points out of total 1000 points: 293\n"
     ]
    }
   ],
   "source": [
    "data = feature[negative_dictionary]\n",
    "target = feature['feedback']\n",
    "\n",
    "# data is boolean, so import Bernoulli\n",
    "from sklearn.naive_bayes import BernoulliNB\n",
    "\n",
    "bnb = BernoulliNB()\n",
    "\n",
    "#fit model to data\n",
    "bnb.fit(data, target)\n",
    "\n",
    "#classify, store results in variable\n",
    "y_pred = bnb.predict(data)\n",
    "\n",
    "#display\n",
    "print(\"number of mislabeled points out of total {} points: {}\".format(\n",
    "    data.shape[0], (target != y_pred).sum()\n",
    "))"
   ]
  },
  {
   "cell_type": "code",
   "execution_count": 11,
   "metadata": {},
   "outputs": [
    {
     "name": "stdout",
     "output_type": "stream",
     "text": [
      "number of mislabeled points out of total 1000 points: 299\n"
     ]
    }
   ],
   "source": [
    "#create 2nd classifier - tweaking the neutral dictionary, less specific negative dicionary\n",
    "neutral = ['was', 'for', 'that', 'there', 'your', 'from', 'what', 'like', \"i've\", \"i'm\", 'can', 'wife', 'dog', 'reviews', 'beans', 'green', \"friend's\", 'lobster', 'rice', 'fried',\n",
    "          'lunch', 'about', 'them', 'than', 'she', 'said', 'who', 'talk', 'chips', 'soup', 'husband', 'vegetables', 'fish', 'texture']\n",
    "\n",
    "#create negative dictionary excluding 2 letter words and neutral list\n",
    "negative_dictionary2 = []\n",
    "for word in filtered_dictionary:\n",
    "    if (word != None):\n",
    "        if ((len(word) > 2) & (word not in neutral)):\n",
    "            negative_dictionary2.append(word)\n",
    "\n",
    "# keyword indicators of negative feedback\n",
    "for key in negative_dictionary2:\n",
    "    # adding spaces around key to get word and not pattern matching.\n",
    "    feature[str(key)] = feature.msg.str.contains(\n",
    "        ' ' + str(key) + ' ', case=False\n",
    "    )\n",
    "\n",
    "data = feature[negative_dictionary2]\n",
    "target = feature['feedback']\n",
    "\n",
    "# data is boolean, so import Bernoulli\n",
    "from sklearn.naive_bayes import BernoulliNB\n",
    "\n",
    "bnb = BernoulliNB()\n",
    "\n",
    "#fit model to data\n",
    "bnb.fit(data, target)\n",
    "\n",
    "#classify, store results in variable\n",
    "y_pred = bnb.predict(data)\n",
    "\n",
    "#display\n",
    "print(\"number of mislabeled points out of total {} points: {}\".format(\n",
    "    data.shape[0], (target != y_pred).sum()\n",
    "))"
   ]
  },
  {
   "cell_type": "code",
   "execution_count": 12,
   "metadata": {},
   "outputs": [
    {
     "name": "stdout",
     "output_type": "stream",
     "text": [
      "number of mislabeled points out of total 1000 points: 405\n"
     ]
    }
   ],
   "source": [
    "#create 3rd classifier - limit from all possible words to a range of top 70 words only\n",
    "dictionary = pd.DataFrame()\n",
    "dictionary['negative'] = pd.Series(' '.join(feature[feature['feedback']==0].msg).lower().split()).value_counts()[:70]\n",
    "dictionary['positive'] = pd.Series(' '.join(feature[feature['feedback']==1].msg).lower().split()).value_counts()[:70]\n",
    "filtered_dictionary = np.where(dictionary['negative'] > dictionary['positive'], dictionary['negative'].index, None)\n",
    "\n",
    "#remove neutral/positive words from negative dictionary\n",
    "neutral = ['was', 'for', 'that', 'there', 'your', 'from', 'what', 'like', \"i've\", \"i'm\", 'can', 'wife', 'dog', 'reviews', 'beans', 'green', \"friend's\", 'lobster', 'rice', 'fried']\n",
    "\n",
    "#create negative dictionary excluding 2 letter words and neutral list\n",
    "negative_dictionary3 = []\n",
    "for word in filtered_dictionary:\n",
    "    if (word != None):\n",
    "        if ((len(word) > 2) & (word not in neutral)):\n",
    "            negative_dictionary3.append(word)\n",
    "\n",
    "# keyword indicators of negative feedback\n",
    "for key in negative_dictionary3:\n",
    "    # adding spaces around key to get word and not pattern matching.\n",
    "    feature[str(key)] = feature.msg.str.contains(\n",
    "        ' ' + str(key) + ' ', case=False\n",
    "    )\n",
    "    \n",
    "data = feature[negative_dictionary3]\n",
    "target = feature['feedback']\n",
    "\n",
    "# data is boolean, so import Bernoulli\n",
    "from sklearn.naive_bayes import BernoulliNB\n",
    "\n",
    "bnb = BernoulliNB()\n",
    "\n",
    "#fit model to data\n",
    "bnb.fit(data, target)\n",
    "\n",
    "#classify, store results in variable\n",
    "y_pred = bnb.predict(data)\n",
    "\n",
    "#display\n",
    "print(\"number of mislabeled points out of total {} points: {}\".format(\n",
    "    data.shape[0], (target != y_pred).sum()\n",
    "))"
   ]
  },
  {
   "cell_type": "code",
   "execution_count": 13,
   "metadata": {},
   "outputs": [
    {
     "name": "stdout",
     "output_type": "stream",
     "text": [
      "number of mislabeled points out of total 1000 points: 303\n"
     ]
    }
   ],
   "source": [
    "#create 4th classifier - only limit 1 letter and neutral words\n",
    "dictionary = pd.DataFrame()\n",
    "dictionary['negative'] = pd.Series(' '.join(feature[feature['feedback']==0].msg).lower().split()).value_counts()\n",
    "dictionary['positive'] = pd.Series(' '.join(feature[feature['feedback']==1].msg).lower().split()).value_counts()\n",
    "filtered_dictionary = np.where(dictionary['negative'] > dictionary['positive'], dictionary['negative'].index, None)\n",
    "\n",
    "#remove neutral/positive words from negative dictionary\n",
    "neutral = ['was', 'for', 'that', 'there', 'your', 'from', 'what', 'like', \"i've\", \"i'm\", 'can', 'wife', 'dog', 'reviews', 'beans', 'green', \"friend's\", 'lobster', 'rice', 'fried']\n",
    "\n",
    "#create negative dictionary excluding 2 letter words and neutral list\n",
    "negative_dictionary4 = []\n",
    "for word in filtered_dictionary:\n",
    "    if (word != None):\n",
    "        if ((len(word) > 1) & (word not in neutral)):\n",
    "            negative_dictionary4.append(word)\n",
    "\n",
    "# keyword indicators of negative feedback\n",
    "for key in negative_dictionary4:\n",
    "    # adding spaces around key to get word and not pattern matching.\n",
    "    feature[str(key)] = feature.msg.str.contains(\n",
    "        ' ' + str(key) + ' ', case=False\n",
    "    )\n",
    "    \n",
    "data = feature[negative_dictionary4]\n",
    "target = feature['feedback']\n",
    "\n",
    "# data is boolean, so import Bernoulli\n",
    "from sklearn.naive_bayes import BernoulliNB\n",
    "\n",
    "bnb = BernoulliNB()\n",
    "\n",
    "#fit model to data\n",
    "bnb.fit(data, target)\n",
    "\n",
    "#classify, store results in variable\n",
    "y_pred = bnb.predict(data)\n",
    "\n",
    "#display\n",
    "print(\"number of mislabeled points out of total {} points: {}\".format(\n",
    "    data.shape[0], (target != y_pred).sum()\n",
    "))"
   ]
  },
  {
   "cell_type": "code",
   "execution_count": 14,
   "metadata": {},
   "outputs": [
    {
     "name": "stdout",
     "output_type": "stream",
     "text": [
      "number of mislabeled points out of total 1000 points: 360\n"
     ]
    }
   ],
   "source": [
    "#5th classifier - a simple list of words for the negative dictionary\n",
    "negative_dictionary5 = ['not', 'no', 'never', \"didn't\", 'ever', 'again', \"won't\", 'worst', 'disappointed', \"didn't\", \"can't\", 'damn', 'bill', \"couldn't\", 'expected', 'review', 'reviews']\n",
    "\n",
    "# keyword indicators of negative feedback\n",
    "for key in negative_dictionary5:\n",
    "    # adding spaces around key to get word and not pattern matching.\n",
    "    feature[str(key)] = feature.msg.str.contains(\n",
    "        ' ' + str(key) + ' ', case=False\n",
    "    )\n",
    "\n",
    "data = feature[negative_dictionary5]\n",
    "target = feature['feedback']\n",
    "\n",
    "# data is boolean, so import Bernoulli\n",
    "from sklearn.naive_bayes import BernoulliNB\n",
    "\n",
    "bnb = BernoulliNB()\n",
    "\n",
    "#fit model to data\n",
    "bnb.fit(data, target)\n",
    "\n",
    "#classify, store results in variable\n",
    "y_pred = bnb.predict(data)\n",
    "\n",
    "#display\n",
    "print(\"number of mislabeled points out of total {} points: {}\".format(\n",
    "    data.shape[0], (target != y_pred).sum()\n",
    "))"
   ]
  },
  {
   "cell_type": "markdown",
   "metadata": {},
   "source": [
    "<i>Do any of your classifiers seem to overfit?</i><br>\n",
    "All of my classifiers sans 5th classifier may have an issue with overfitting. Because I try to procedurally generate the features, it has a tendency to create a lot of features based on how many words are more prevalent in the negative messages than in the positive messages.\n",
    "\n",
    "<i>Which seem to perform the best? Why?><i><br>\n",
    "Yet out of all of these, my original classifier seems to perform the best, with the second best performing iteration was the one that had less specific negative dictionary. It may be because it was just fine tuned for this specific exercise. This becomes apparent in the third classifier, where I had an error of 408 mismatched words when I limited the number of top words I was comparing.\n",
    "\n",
    "<i>Which features seemed to be most impactful to performance?</i><br>\n",
    "Because I tried to create features procedurally instead of different types of features (words, upper case, etc.) I would say that my features are all equally impactful. Rather, the thing that appeared to impact my performance the most within this procedurally generated list is that it is fine tuned to pick out words based on this dataset. While the classifier's procedurally generated list can be used for different datasets by rebuilding it every time, it runs into the issue of overfitting each time."
   ]
  }
 ],
 "metadata": {
  "kernelspec": {
   "display_name": "Python 3",
   "language": "python",
   "name": "python3"
  },
  "language_info": {
   "codemirror_mode": {
    "name": "ipython",
    "version": 3
   },
   "file_extension": ".py",
   "mimetype": "text/x-python",
   "name": "python",
   "nbconvert_exporter": "python",
   "pygments_lexer": "ipython3",
   "version": "3.6.3"
  }
 },
 "nbformat": 4,
 "nbformat_minor": 2
}
